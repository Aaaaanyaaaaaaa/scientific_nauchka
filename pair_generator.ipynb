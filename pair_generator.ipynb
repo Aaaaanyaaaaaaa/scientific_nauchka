{
 "cells": [
  {
   "cell_type": "code",
   "execution_count": 1,
   "metadata": {},
   "outputs": [],
   "source": [
    "from __future__ import print_function\n",
    "from fenics import *\n",
    "from mshr import *\n",
    "import matplotlib.pyplot as plt"
   ]
  },
  {
   "cell_type": "code",
   "execution_count": 2,
   "metadata": {},
   "outputs": [],
   "source": [
    "import numpy as np\n",
    "import vtk"
   ]
  },
  {
   "cell_type": "code",
   "execution_count": 3,
   "metadata": {},
   "outputs": [],
   "source": [
    "import sympy as sym"
   ]
  },
  {
   "cell_type": "markdown",
   "metadata": {},
   "source": [
    "so we have family of functions $q_N(x,y) =1+x^N+y^N$ and the function $u = sin(\\pi y) cos(\\pi x)$, mesh of size $meshN \\times meshN$"
   ]
  },
  {
   "cell_type": "code",
   "execution_count": 4,
   "metadata": {},
   "outputs": [],
   "source": [
    "def q(x, y, degree=1):\n",
    "    return 1+ x**degree +y**degree\n",
    "def boundary(x, on_boundary):\n",
    "    return on_boundary\n",
    "\n",
    "def pair_generator(N, meshN = 10):\n",
    "    #this is for \n",
    "    x, y = sym.symbols('x[0], x[1]')\n",
    "    u = sym.cos(sym.pi * x) *   sym.sin(sym.pi * y)\n",
    "    f = - sym.diff(q(x,y, 2)*sym.diff(u, x), x) - sym.diff(q(x,y, 2)*sym.diff(u, y), y)\n",
    "    f = sym.simplify(f)\n",
    "    u_code = sym.printing.ccode(u)\n",
    "    f_code = sym.printing.ccode(f)\n",
    "    \n",
    "    \n",
    "    a = 'pow(x[0],{})+1+pow(x[1],{})'.format(N,N)\n",
    "    kappa = Expression(a, degree=1)\n",
    "    \n",
    "    \n",
    "    mesh = UnitSquareMesh(10, 10)\n",
    "    V = FunctionSpace(mesh, 'P', 1)\n",
    "\n",
    "# HAVE NO CLUE WHY WE ARE DOING  THAT\n",
    "    u_D = Expression(u_code, degree=1)\n",
    "    f = Expression(f_code, degree=2)\n",
    "\n",
    "    \n",
    "#we have direchlet conditions in BERG NYSTROM paper\n",
    "    bc = DirichletBC(V, u_D, boundary)\n",
    "    u = Function(V)  # Note: not TrialFunction!\n",
    "    v = TestFunction(V)\n",
    "\n",
    "    F = kappa*dot(grad(u), grad(v))*dx - f*v*dx\n",
    "\n",
    "# Compute solution\n",
    "    solve(F == 0, u, bc)\n",
    "    arr_u = u.compute_vertex_values(mesh)\n",
    "    arr_kappa = kappa.compute_vertex_values(mesh)\n",
    "    return arr_u, arr_kappa\n",
    "    "
   ]
  },
  {
   "cell_type": "code",
   "execution_count": 5,
   "metadata": {},
   "outputs": [],
   "source": [
    "data_u = {}\n",
    "data_kappa = {}\n",
    "N = [i for i in range(5)]\n",
    "for i in N:\n",
    "    u, kappa = pair_generator(i)\n",
    "    data_u[i] = u\n",
    "    data_kappa[i] = kappa\n",
    "    "
   ]
  },
  {
   "cell_type": "code",
   "execution_count": null,
   "metadata": {},
   "outputs": [],
   "source": []
  }
 ],
 "metadata": {
  "kernelspec": {
   "display_name": "Python 3",
   "language": "python",
   "name": "python3"
  },
  "language_info": {
   "codemirror_mode": {
    "name": "ipython",
    "version": 3
   },
   "file_extension": ".py",
   "mimetype": "text/x-python",
   "name": "python",
   "nbconvert_exporter": "python",
   "pygments_lexer": "ipython3",
   "version": "3.8.2"
  }
 },
 "nbformat": 4,
 "nbformat_minor": 4
}
