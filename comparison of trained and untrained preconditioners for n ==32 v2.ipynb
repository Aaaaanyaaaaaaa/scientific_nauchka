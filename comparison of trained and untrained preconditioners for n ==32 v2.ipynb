{
 "cells": [
  {
   "cell_type": "code",
   "execution_count": 1,
   "metadata": {},
   "outputs": [],
   "source": [
    "import numpy as np\n",
    "import jax\n",
    "import jax.numpy as jnp\n",
    "import matplotlib.pyplot as plt\n",
    "import flax \n",
    "import flax.nn as nn"
   ]
  },
  {
   "cell_type": "code",
   "execution_count": 8,
   "metadata": {},
   "outputs": [],
   "source": [
    "\n",
    "def P_local_matvec(k, K, w1, w2, x):\n",
    "    x1 = x.reshape((2**k, -1))\n",
    "    tmp = jnp.zeros(x1.shape)\n",
    "    tmp = jax.ops.index_update(tmp, jax.ops.index[:-1, :], x1[1:, :])\n",
    "    res = (x1@w1) + (tmp@w2)\n",
    "    return res.flatten()\n",
    "\n",
    "\n",
    "def P_local_matvec_t(k, K, w1, w2, x):\n",
    "    x1 = x.reshape((2**k, -1))     #Can we make a 2D version\n",
    "    tmp = jnp.zeros(x1.shape)\n",
    "    tmp = jax.ops.index_update(tmp, jax.ops.index[1:, :], x1[:-1, :])\n",
    "    res = x1@w1.T + (tmp@w2.T)\n",
    "\n",
    "    return res.flatten()\n",
    "\n",
    "\n",
    "class Projector_direct(nn.Module):\n",
    "    def apply(self, x, k, K):\n",
    "        s = (K-k)\n",
    "        sp = (2**s, 1)\n",
    "        w1 = self.param('w1', sp, nn.initializers.lecun_normal())\n",
    "        w2 = self.param('w2', sp, nn.initializers.lecun_normal())\n",
    "        x1 = x.reshape((2**k, -1))\n",
    "        y = P_local_matvec(k, K, w1, w2, x1)\n",
    "        z = P_local_matvec_t(k, K, w1, w2, y)\n",
    "        z = z.reshape(x.shape)\n",
    "        return z"
   ]
  },
  {
   "cell_type": "code",
   "execution_count": 9,
   "metadata": {},
   "outputs": [],
   "source": [
    "def get_init_params(k, K):\n",
    "    s = (K-k)\n",
    "    xi = jnp.ones(2**s)\n",
    "    eta = (jnp.arange(2**s) + 1)*1.0*(2**(-s))\n",
    "    xi = jnp.reshape(xi, (-1, 1))\n",
    "    eta = jnp.reshape(eta, (-1, 1))\n",
    "    w1 = eta\n",
    "    w2 = xi - eta\n",
    "    w1 = w1*(2**(-s/2))\n",
    "    w2 = w2*(2**(-s/2))\n",
    "    return w1, w2"
   ]
  },
  {
   "cell_type": "code",
   "execution_count": 10,
   "metadata": {},
   "outputs": [],
   "source": [
    "class BPX(nn.Module):\n",
    "    def apply(self, x, K):\n",
    "        y = jnp.zeros(x.shape)\n",
    "        for k in range(K+1):\n",
    "            scale = self.param('scale_{0:d}'.format(k), (1, ), nn.initializers.ones)\n",
    "            y = y + 0.5*(scale + abs(scale))*Projector_direct(x, k, K)\n",
    "        return y\n",
    "\n",
    "\n",
    "def init_BPX(K, model):\n",
    "    params = {}\n",
    "    for k in range(K+1):\n",
    "        name = 'Projector_direct_{0:d}'.format(k)\n",
    "        scale_name = 'scale_{0:d}'.format(k)\n",
    "        w1, w2 = get_init_params(k, K)\n",
    "        loc_params = {'w1': w1, 'w2': w2}\n",
    "        params[name] = loc_params\n",
    "        params[scale_name] = jnp.reshape(2**(-k), (1, ))*0.05\n",
    "        #params[scale_name] = jnp.reshape(2**(-k), (1, ))*1e-2\n",
    "\n",
    "    return model.replace(params=params)"
   ]
  },
  {
   "cell_type": "code",
   "execution_count": 11,
   "metadata": {},
   "outputs": [],
   "source": [
    "def loss(dpx_model, mat, x):\n",
    "    sz = x.shape\n",
    "    y = x\n",
    "    dpx_model_batch = jax.vmap(dpx_model, 1, 1) \n",
    "    z = y\n",
    "    for i in range(3):\n",
    "        z = y.reshape(y.shape) \n",
    "        By = dpx_model_batch(z) \n",
    "        By = jnp.reshape(By, y.shape)\n",
    "        By = mat@By \n",
    "        By = dpx_model_batch(By) \n",
    "        \n",
    "        y = y - By \n",
    "    return jnp.mean(jnp.einsum('ib, ib->b', y, y))"
   ]
  },
  {
   "cell_type": "code",
   "execution_count": 12,
   "metadata": {},
   "outputs": [
    {
     "name": "stderr",
     "output_type": "stream",
     "text": [
      "/Users/Anna.Rudenko/opt/anaconda3/envs/myenv/lib/python3.8/site-packages/jax/lib/xla_bridge.py:122: UserWarning: No GPU/TPU found, falling back to CPU.\n",
      "  warnings.warn('No GPU/TPU found, falling back to CPU.')\n"
     ]
    }
   ],
   "source": [
    "rng = jax.random.PRNGKey(2010)\n",
    "rng, key = jax.random.split(rng)\n",
    "\n",
    "K = 5\n",
    "B_cur = BPX.partial(K=K)\n",
    "n = 2**K\n",
    "x0 = jnp.ones(n)\n",
    "_, init_params = B_cur.init(key, x0)\n",
    "init_model = nn.Model(B_cur, init_params)\n",
    "true_BPX_2 = init_BPX(K, init_model)\n",
    "\n",
    "# K = 5\n",
    "# n = 2**K \n",
    "z = jnp.diag(jnp.ones(n-1), -1)\n",
    "e = jnp.eye(n)\n",
    "lp = 2*e - z - z.T\n",
    "lp = lp*(n+1)**2\n",
    "\n",
    "\n",
    "# c = 1e2 # convection coefficient\n"
   ]
  },
  {
   "cell_type": "code",
   "execution_count": 29,
   "metadata": {},
   "outputs": [],
   "source": [
    "def richardson(F, x0, f,  num_iter, tau, eps = 1e-3,  prec = None, PFP = False):\n",
    "    conv = [x0]\n",
    "    xk = x0\n",
    "    \n",
    "    if prec == None:\n",
    "        tau = tau[0]#0.0004\n",
    "        for i in range(num_iter):\n",
    "            xk = xk - tau*(F@xk - f)\n",
    "            disp = jnp.linalg.norm(F@xk - f)\n",
    "            conv.append(xk)\n",
    "            if disp <= eps:\n",
    "                return i, xk, disp, conv\n",
    "        return i, xk, disp, conv\n",
    "    elif prec !=None:\n",
    "        if PFP == False:\n",
    "            tau = tau[1] #.159\n",
    "            for i in range(num_iter):\n",
    "                xk = xk - tau * prec @ (F @ xk - f)\n",
    "                conv.append(xk)\n",
    "                disp = jnp.linalg.norm(F @ xk - f) \n",
    "                if disp <= eps:\n",
    "                    return i, xk, disp, conv\n",
    "            return i, xk, disp, conv\n",
    "        elif PFP == True:\n",
    "            tau = tau[2]#7\n",
    "            for i in range(num_iter):\n",
    "                xk = xk - tau * ((prec@(F@(prec@xk))) - (prec@f))\n",
    "                conv.append(xk)\n",
    "                disp = jnp.linalg.norm((prec@(F@(prec@xk))) - (prec@f))\n",
    "                if disp <= eps:\n",
    "                    return i, xk, disp, conv\n",
    "            return i, xk, disp, conv\n",
    "            "
   ]
  },
  {
   "cell_type": "code",
   "execution_count": 13,
   "metadata": {},
   "outputs": [],
   "source": [
    "x0 = jnp.ones(n)\n",
    "xr =  jax.random.uniform(key, x0.shape)\n",
    "f = jnp.ones_like(xr)*6\n",
    "gt = jnp.linalg.solve(lp, f)"
   ]
  },
  {
   "cell_type": "code",
   "execution_count": 14,
   "metadata": {},
   "outputs": [
    {
     "name": "stdout",
     "output_type": "stream",
     "text": [
      "(32, 32)\n"
     ]
    }
   ],
   "source": [
    "rng = jax.random.PRNGKey(2010)\n",
    "rng, key = jax.random.split(rng)\n",
    "\n",
    "K = 5\n",
    "B_cur = BPX.partial(K=K)\n",
    "n = 2**K\n",
    "x0 = jnp.ones(n)\n",
    "_, init_params = B_cur.init(key, x0)\n",
    "init_model = nn.Model(B_cur, init_params)\n",
    "true_BPX = init_BPX(K, init_model)\n",
    "\n",
    "\n",
    "\n",
    "z = jnp.eye(n)\n",
    "batch_model = jax.vmap(true_BPX) #We want to have ||(I - tau*A*B)||->min\n",
    "prec = batch_model(z)\n",
    "print(prec.shape)"
   ]
  },
  {
   "cell_type": "code",
   "execution_count": null,
   "metadata": {},
   "outputs": [],
   "source": [
    "def richardson(F, x0, f,  num_iter,  eps = 1e-3, prec = None, PFP = False)"
   ]
  },
  {
   "cell_type": "code",
   "execution_count": 30,
   "metadata": {},
   "outputs": [],
   "source": [
    "eps = 1e-3\n",
    "num_iter = 1e2\n",
    "tau = [0.0004, .159, 7 ]"
   ]
  },
  {
   "cell_type": "code",
   "execution_count": 31,
   "metadata": {},
   "outputs": [],
   "source": [
    "i, ans, disp, conv = richardson(lp, xr, f, int(num_iter), tau =tau, eps=eps)"
   ]
  },
  {
   "cell_type": "code",
   "execution_count": 32,
   "metadata": {},
   "outputs": [],
   "source": [
    "i_up, ans_up, disp_up, conv_up = richardson(lp, xr, f, int(num_iter),tau = tau, eps=eps,  prec=prec)"
   ]
  },
  {
   "cell_type": "code",
   "execution_count": 33,
   "metadata": {},
   "outputs": [],
   "source": [
    "i_up1, ans_up1, disp_up1, conv_up1 = richardson(lp, xr, f, int(num_iter), tau = tau,eps=eps, prec=prec, PFP=True)"
   ]
  },
  {
   "cell_type": "code",
   "execution_count": 34,
   "metadata": {},
   "outputs": [
    {
     "data": {
      "text/plain": [
       "<matplotlib.legend.Legend at 0x125fc0c40>"
      ]
     },
     "execution_count": 34,
     "metadata": {},
     "output_type": "execute_result"
    },
    {
     "data": {
      "image/png": "[encoded data removed]",
      "text/plain": [
       "<Figure size 432x288 with 1 Axes>"
      ]
     },
     "metadata": {
      "needs_background": "light"
     },
     "output_type": "display_data"
    }
   ],
   "source": [
    "plt.semilogy([jnp.linalg.norm(lp @ x - f) for x in conv], label=\"Rich\")\n",
    "plt.semilogy([jnp.linalg.norm(lp @ x - f) for x in conv_up], label=\"Prec\")\n",
    "plt.semilogy([jnp.linalg.norm(prec @ (lp @ (prec @ x)) - prec @ f) for x in conv_up1], label=\"Prec PFP\")\n",
    "plt.legend()"
   ]
  },
  {
   "cell_type": "code",
   "execution_count": 35,
   "metadata": {},
   "outputs": [
    {
     "data": {
      "text/plain": [
       "<matplotlib.legend.Legend at 0x128084490>"
      ]
     },
     "execution_count": 35,
     "metadata": {},
     "output_type": "execute_result"
    },
    {
     "data": {
      "image/png": "[encoded data removed]",
      "text/plain": [
       "<Figure size 432x288 with 1 Axes>"
      ]
     },
     "metadata": {
      "needs_background": "light"
     },
     "output_type": "display_data"
    }
   ],
   "source": [
    "import matplotlib.pyplot as plt\n",
    "plt.plot(gt, label = 'ground truth')\n",
    "plt.plot(ans, label= 'without prec')\n",
    "plt.plot(ans_up, label= 'with prec PFx =f')\n",
    "plt.plot(prec@ans_up1, label ='with prec PFPx =Pf')\n",
    "plt.legend()"
   ]
  },
  {
   "cell_type": "code",
   "execution_count": 27,
   "metadata": {},
   "outputs": [
    {
     "name": "stdout",
     "output_type": "stream",
     "text": [
      "0.033496693\n",
      "0.00033023817\n",
      "0.0007632035\n"
     ]
    }
   ],
   "source": [
    "print(jnp.linalg.norm(gt - ans))\n",
    "print(jnp.linalg.norm(gt - ans_up))\n",
    "print(jnp.linalg.norm(gt - prec @ ans_up1))"
   ]
  },
  {
   "cell_type": "code",
   "execution_count": 36,
   "metadata": {},
   "outputs": [],
   "source": [
    "tau2 = [.0004, .026, .767]"
   ]
  },
  {
   "cell_type": "code",
   "execution_count": 57,
   "metadata": {},
   "outputs": [],
   "source": [
    "# r = open('bytesK5.txt', 'rb')\n",
    "r = open('rigtht_k5i20.txt', 'rb')\n",
    "l = r.readlines()\n",
    "ll = b''.join(l)\n",
    "params = flax.serialization.msgpack_restore(ll)\n",
    "true_BPX_3 = true_BPX_2.replace(params=params)\n",
    "n = 2**K\n",
    "z = jnp.eye(n)\n",
    "batch_model = jax.vmap(true_BPX_3) #We want to have ||(I - tau*A*B)||->min\n",
    "prec2 = batch_model(z)"
   ]
  },
  {
   "cell_type": "code",
   "execution_count": 59,
   "metadata": {},
   "outputs": [],
   "source": [
    "i_p, ans_p, disp_p, conv_p = richardson(lp, xr, f, int(num_iter),tau = tau2, eps=eps,  prec=prec2)"
   ]
  },
  {
   "cell_type": "code",
   "execution_count": 60,
   "metadata": {},
   "outputs": [],
   "source": [
    "i_p1, ans_p1, disp_p1, conv_p1 = richardson(lp, xr, f, int(num_iter), tau = tau2,eps=eps, prec=prec2, PFP=True)"
   ]
  },
  {
   "cell_type": "code",
   "execution_count": 61,
   "metadata": {},
   "outputs": [
    {
     "data": {
      "text/plain": [
       "<matplotlib.legend.Legend at 0x12a2bcca0>"
      ]
     },
     "execution_count": 61,
     "metadata": {},
     "output_type": "execute_result"
    },
    {
     "data": {
      "image/png": "[encoded data removed]",
      "text/plain": [
       "<Figure size 432x288 with 1 Axes>"
      ]
     },
     "metadata": {
      "needs_background": "light"
     },
     "output_type": "display_data"
    }
   ],
   "source": [
    "import matplotlib.pyplot as plt\n",
    "plt.plot(gt, label = 'ground truth')\n",
    "plt.plot(ans, label= 'without prec')\n",
    "plt.plot(ans_p, label= 'with prec PFx =f')\n",
    "plt.plot(prec2@ans_p1, label ='with prec PFPx =Pf')\n",
    "plt.legend()"
   ]
  },
  {
   "cell_type": "code",
   "execution_count": 62,
   "metadata": {},
   "outputs": [
    {
     "data": {
      "text/plain": [
       "<matplotlib.legend.Legend at 0x12a600940>"
      ]
     },
     "execution_count": 62,
     "metadata": {},
     "output_type": "execute_result"
    },
    {
     "data": {
      "image/png": "[encoded data removed]",
      "text/plain": [
       "<Figure size 432x288 with 1 Axes>"
      ]
     },
     "metadata": {
      "needs_background": "light"
     },
     "output_type": "display_data"
    }
   ],
   "source": [
    "plt.semilogy([jnp.linalg.norm(lp @ x - f) for x in conv], label=\"Rich\")\n",
    "plt.semilogy([jnp.linalg.norm(lp @ x - f) for x in conv_p], label=\"Prec\")\n",
    "plt.semilogy([jnp.linalg.norm(prec2 @ (lp @ (prec2 @ x)) - prec2 @ f) for x in conv_p1], label=\"Prec PFP\")\n",
    "plt.semilogy([jnp.linalg.norm(lp @ x - f) for x in conv_up], label=\"untrained Prec\")\n",
    "plt.semilogy([jnp.linalg.norm(prec @ (lp @ (prec @ x)) - prec @ f) for x in conv_up1], label=\"untrainedPrec PFP\")\n",
    "plt.legend()"
   ]
  },
  {
   "cell_type": "code",
   "execution_count": 63,
   "metadata": {},
   "outputs": [
    {
     "name": "stdout",
     "output_type": "stream",
     "text": [
      "0.033496693\n",
      "0.004314278\n",
      "0.0007070742\n"
     ]
    }
   ],
   "source": [
    "print(jnp.linalg.norm(gt - ans))\n",
    "print(jnp.linalg.norm(gt - ans_p))\n",
    "print(jnp.linalg.norm(gt - prec2 @ ans_p1))"
   ]
  },
  {
   "cell_type": "code",
   "execution_count": 53,
   "metadata": {},
   "outputs": [
    {
     "name": "stdout",
     "output_type": "stream",
     "text": [
      "0.033496693\n",
      "0.00033023817\n",
      "0.0007632035\n"
     ]
    }
   ],
   "source": [
    "print(jnp.linalg.norm(gt - ans))\n",
    "print(jnp.linalg.norm(gt - ans_up))\n",
    "print(jnp.linalg.norm(gt - prec @ ans_up1))"
   ]
  },
  {
   "cell_type": "code",
   "execution_count": 55,
   "metadata": {},
   "outputs": [
    {
     "data": {
      "text/plain": [
       "0.9946746"
      ]
     },
     "execution_count": 55,
     "metadata": {},
     "output_type": "execute_result"
    }
   ],
   "source": [
    "w, _ =  np.linalg.eig(np.eye(n) - prec@lp@prec)\n",
    "max(w)"
   ]
  },
  {
   "cell_type": "code",
   "execution_count": 56,
   "metadata": {},
   "outputs": [
    {
     "data": {
      "text/plain": [
       "0.86219823"
      ]
     },
     "execution_count": 56,
     "metadata": {},
     "output_type": "execute_result"
    }
   ],
   "source": [
    "w1, _ =  np.linalg.eig(np.eye(n) - prec2@lp@prec2)\n",
    "max(w1)"
   ]
  },
  {
   "cell_type": "code",
   "execution_count": null,
   "metadata": {},
   "outputs": [],
   "source": []
  }
 ],
 "metadata": {
  "kernelspec": {
   "display_name": "Python 3",
   "language": "python",
   "name": "python3"
  },
  "language_info": {
   "codemirror_mode": {
    "name": "ipython",
    "version": 3
   },
   "file_extension": ".py",
   "mimetype": "text/x-python",
   "name": "python",
   "nbconvert_exporter": "python",
   "pygments_lexer": "ipython3",
   "version": "3.8.2"
  }
 },
 "nbformat": 4,
 "nbformat_minor": 4
}
