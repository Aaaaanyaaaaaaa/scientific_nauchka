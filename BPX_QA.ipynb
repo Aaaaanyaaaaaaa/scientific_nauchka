{
 "cells": [
  {
   "cell_type": "code",
   "execution_count": 1,
   "metadata": {},
   "outputs": [],
   "source": [
    "import numpy as np\n",
    "import jax\n",
    "import jax.numpy as jnp\n",
    "import matplotlib.pyplot as plt\n",
    "import flax \n",
    "import flax.nn as nn"
   ]
  },
  {
   "cell_type": "markdown",
   "metadata": {},
   "source": [
    "we set $P_{n,N} as $ $P\\_local\\_matvec$ and $P^{T}_{n,N}$ as $P\\_local\\_matvec\\_t$. $N$ is fixed and $n$ is iterable. Here $P\\_local\\_matvec$  and $\\P_local\\_matvec\\_t$ are set for the single iteration&\n",
    "\n",
    "The same is for  $Projector \\_  direct$. $Projector \\_  direct$ is for $P_{n,N}P^T_{n,N}$ for single iteration\n",
    "\n",
    "\n",
    "All this stuff is initialized with $x$\n",
    "\n",
    "We initialize $w1$ and $w2$ with lecun and in $init\\_BPX$ we  change (??) the values with $get\\_init\\_params$"
   ]
  },
  {
   "cell_type": "code",
   "execution_count": 2,
   "metadata": {},
   "outputs": [],
   "source": [
    "def P_local_matvec(k, K, w1, w2, x):\n",
    "    #S = jnp.diag(jnp.ones(2**k-1), 1)\n",
    "    x1 = x.reshape((2**k, -1))\n",
    "#     print('x1 shape',x1.shape)\n",
    "    tmp = jnp.zeros(x1.shape)\n",
    "#     print('tmp shape: ', tmp.shape)\n",
    "    tmp = jax.ops.index_update(tmp, jax.ops.index[:-1, :], x1[1:, :])\n",
    "    #tmp = S@x1 \n",
    "    res = (x1@w1) + (tmp@w2)\n",
    "#     print(\"re shape\", res.shape)\n",
    "    return res.flatten()\n",
    "\n",
    "\n",
    "def P_local_matvec_t(k, K, w1, w2, x):\n",
    "    #S = jnp.diag(jnp.ones(2**k-1), 1) #P.T = kron(I, eta.T)\n",
    "    x1 = x.reshape((2**k, -1))     #Can we make a 2D version\n",
    "    tmp = jnp.zeros(x1.shape)\n",
    "    tmp = jax.ops.index_update(tmp, jax.ops.index[1:, :], x1[:-1, :])\n",
    "    #res = x1@w1.T + (S.T@x1@w2.T)\n",
    "    res = x1@w1.T + (tmp@w2.T)\n",
    "\n",
    "    return res.flatten()\n",
    "\n",
    "\n",
    "class Projector_direct(nn.Module):\n",
    "    def apply(self, x, k, K):\n",
    "        s = (K-k)\n",
    "        sp = (2**s, 1)\n",
    "        \n",
    "        w1 = self.param('w1', sp, nn.initializers.lecun_normal())\n",
    "        w2 = self.param('w2', sp, nn.initializers.lecun_normal())\n",
    "        x1 = x.reshape((2**k, -1))\n",
    "        y = P_local_matvec(k, K, w1, w2, x1)\n",
    "        z = P_local_matvec_t(k, K, w1, w2, y)\n",
    "        z = z.reshape(x.shape)\n",
    "        return z\n"
   ]
  },
  {
   "cell_type": "markdown",
   "metadata": {},
   "source": [
    "We set here $w1$ and $w2$ for a single iteration"
   ]
  },
  {
   "cell_type": "code",
   "execution_count": 3,
   "metadata": {},
   "outputs": [],
   "source": [
    "def get_init_params(k, K):\n",
    "    s = (K-k)\n",
    "    xi = jnp.ones(2**s)\n",
    "    eta = (jnp.arange(2**s) + 1)*1.0*(2**(-s))\n",
    "    xi = jnp.reshape(xi, (-1, 1))\n",
    "    eta = jnp.reshape(eta, (-1, 1))\n",
    "    w1 = eta\n",
    "    w2 = xi - eta\n",
    "    w1 = w1*(2**(-s/2))\n",
    "    w2 = w2*(2**(-s/2))\n",
    "    return w1, w2"
   ]
  },
  {
   "cell_type": "markdown",
   "metadata": {},
   "source": [
    "We compute BPX preconditioner here: $\\sum^N_0 \\frac{\\epsilon+ \\|\\epsilon\\|}{2}P_{n,N}P^T_{n,N}$\n",
    "\n",
    "With $init\\_BPX$ we initialize the parameters of the model: $name$, $scale\\_name$  (what is it???), $w1$ and $w2$"
   ]
  },
  {
   "cell_type": "code",
   "execution_count": 4,
   "metadata": {},
   "outputs": [],
   "source": [
    "\n",
    "class BPX(nn.Module):\n",
    "    def apply(self, x, K):\n",
    "        y = jnp.zeros(x.shape)\n",
    "        for k in range(K+1):\n",
    "            scale = self.param('scale_{0:d}'.format(k), (1, ), nn.initializers.ones)\n",
    "            y = y + 0.5*(scale + abs(scale))*Projector_direct(x, k, K)\n",
    "        return y\n",
    "\n",
    "\n",
    "def init_BPX(K, model):\n",
    "    params = {}\n",
    "    for k in range(K+1):\n",
    "        name = 'Projector_direct_{0:d}'.format(k)\n",
    "        scale_name = 'scale_{0:d}'.format(k)\n",
    "        w1, w2 = get_init_params(k, K)\n",
    "        loc_params = {'w1': w1, 'w2': w2}\n",
    "        params[name] = loc_params\n",
    "        params[scale_name] = jnp.reshape(2**(-k), (1, ))*0.05\n",
    "        #params[scale_name] = jnp.reshape(2**(-k), (1, ))*1e-2\n",
    "\n",
    "    return model.replace(params=params)"
   ]
  },
  {
   "cell_type": "markdown",
   "metadata": {},
   "source": []
  },
  {
   "cell_type": "code",
   "execution_count": null,
   "metadata": {},
   "outputs": [],
   "source": []
  },
  {
   "cell_type": "code",
   "execution_count": 43,
   "metadata": {},
   "outputs": [
    {
     "name": "stdout",
     "output_type": "stream",
     "text": [
      "x0. shape (16,)\n"
     ]
    }
   ],
   "source": [
    "rng = jax.random.PRNGKey(2010)\n",
    "rng, key = jax.random.split(rng)\n",
    "\n",
    "K = 4\n",
    "B_cur = BPX.partial(K=K)\n",
    "n = 2**K\n",
    "x0 = jnp.ones(n)\n",
    "print(\"x0. shape\",x0.shape)\n",
    "#зачем\n",
    "_, init_params = B_cur.init(key, x0)\n",
    "init_model = nn.Model(B_cur, init_params)\n",
    "true_BPX = init_BPX(K, init_model)"
   ]
  },
  {
   "cell_type": "code",
   "execution_count": 30,
   "metadata": {},
   "outputs": [],
   "source": [
    "\n",
    "z = jnp.diag(jnp.ones(n-1), -1)\n",
    "e = jnp.eye(n)\n",
    "lp = 2*e - z - z.T\n",
    "lp = lp*(n+1)**2\n",
    "\n",
    "c = 1e2 # convection coefficient\n",
    "\n",
    "mat = lp\n",
    "model = true_BPX"
   ]
  },
  {
   "cell_type": "code",
   "execution_count": 31,
   "metadata": {},
   "outputs": [
    {
     "data": {
      "text/plain": [
       "DeviceArray(0.9943236, dtype=float32)"
      ]
     },
     "execution_count": 31,
     "metadata": {},
     "output_type": "execute_result"
    }
   ],
   "source": [
    "#model = opt.target\n",
    "eye_mat = jnp.eye(n)\n",
    "# mat1 = mat\n",
    "\n",
    "z = eye_mat.reshape((n, n))\n",
    "batch_model = jax.vmap(model) #We want to have ||(I - tau*A*B)||->min\n",
    "prec = batch_model(z).reshape(eye_mat.shape)\n",
    "#prec = get_BPX(K)\n",
    "prec_mat = prec@mat@prec\n",
    "S_mat = eye_mat - prec_mat\n",
    "jnp.linalg.norm(S_mat, 2)"
   ]
  },
  {
   "cell_type": "code",
   "execution_count": 32,
   "metadata": {},
   "outputs": [
    {
     "data": {
      "text/plain": [
       "(DeviceArray(0.14040501, dtype=float32),\n",
       " DeviceArray(0.00567643, dtype=float32))"
      ]
     },
     "execution_count": 32,
     "metadata": {},
     "output_type": "execute_result"
    }
   ],
   "source": [
    "s = jnp.linalg.svd(prec_mat)[1]\n",
    "s[0], s[-1] "
   ]
  },
  {
   "cell_type": "code",
   "execution_count": 33,
   "metadata": {},
   "outputs": [
    {
     "data": {
      "text/plain": [
       "DeviceArray(24.734718, dtype=float32)"
      ]
     },
     "execution_count": 33,
     "metadata": {},
     "output_type": "execute_result"
    }
   ],
   "source": [
    "s[0] / s[-1] "
   ]
  },
  {
   "cell_type": "code",
   "execution_count": 44,
   "metadata": {},
   "outputs": [],
   "source": [
    "def loss(dpx_model, mat, x):\n",
    "    sz = x.shape\n",
    "    y = x\n",
    "    dpx_model_batch = jax.vmap(dpx_model, 1, 1) \n",
    "    for i in range(3):\n",
    "        z = y.reshape(y.shape) #зачем?\n",
    "        \n",
    "        By = dpx_model_batch(z) #инииализация вектором Х\n",
    "        By = jnp.reshape(By, y.shape)#получение предобуславлевателя\n",
    "        By = mat@By #предобуславлливаем матрицу лапласа (почему не By@mat@By)?????\n",
    "        By = dpx_model_batch(By) #зачем????\n",
    "        y = y - By # что в этом. случае у??\n",
    "    return jnp.mean(jnp.einsum('ib, ib->b', y, y)) "
   ]
  },
  {
   "cell_type": "markdown",
   "metadata": {},
   "source": [
    "I have no idea what update method is doing"
   ]
  },
  {
   "cell_type": "code",
   "execution_count": 36,
   "metadata": {},
   "outputs": [],
   "source": [
    "@jax.jit\n",
    "def update(opt, x):\n",
    "    l1, grad1 = jax.value_and_grad(loss)(opt.target, mat, x)\n",
    "    l2, grad2 = jax.value_and_grad(loss)(opt.target, lp, x)\n",
    "    grad = jax.tree_multimap(lambda x, y: x + y, grad1, grad2)\n",
    "    return l1+l2, opt.apply_gradient(grad)"
   ]
  },
  {
   "cell_type": "code",
   "execution_count": 37,
   "metadata": {},
   "outputs": [],
   "source": [
    "n = 2**K\n",
    "batch_size = 512\n",
    "x_batch = jax.random.normal(key, (n, batch_size))\n",
    "x_batch = x_batch/jnp.linalg.norm(x_batch, axis=0)[None, :]"
   ]
  },
  {
   "cell_type": "code",
   "execution_count": 38,
   "metadata": {},
   "outputs": [],
   "source": [
    "opt = flax.optim.Adam(1e-5).create(model)"
   ]
  },
  {
   "cell_type": "code",
   "execution_count": 39,
   "metadata": {},
   "outputs": [
    {
     "name": "stdout",
     "output_type": "stream",
     "text": [
      "0.013151551\n"
     ]
    }
   ],
   "source": [
    "for _ in range(10000):\n",
    "    loss_val, opt = update(opt, x_batch)\n",
    "print(loss_val)"
   ]
  },
  {
   "cell_type": "code",
   "execution_count": 40,
   "metadata": {},
   "outputs": [],
   "source": [
    "model = opt.target\n",
    "params_final = model.params"
   ]
  },
  {
   "cell_type": "code",
   "execution_count": 41,
   "metadata": {},
   "outputs": [
    {
     "data": {
      "text/plain": [
       "[<matplotlib.lines.Line2D at 0x12a14abb0>]"
      ]
     },
     "execution_count": 41,
     "metadata": {},
     "output_type": "execute_result"
    },
    {
     "data": {
      "image/png": "[encoded data removed]",
      "text/plain": [
       "<Figure size 432x288 with 1 Axes>"
      ]
     },
     "metadata": {
      "needs_background": "light"
     },
     "output_type": "display_data"
    }
   ],
   "source": [
    "plt.plot(model.params['Projector_direct_1']['w2'])"
   ]
  },
  {
   "cell_type": "code",
   "execution_count": 42,
   "metadata": {},
   "outputs": [
    {
     "data": {
      "text/plain": [
       "<matplotlib.legend.Legend at 0x129fb1e50>"
      ]
     },
     "execution_count": 42,
     "metadata": {},
     "output_type": "execute_result"
    },
    {
     "data": {
      "image/png": "[encoded data removed]",
      "text/plain": [
       "<Figure size 432x288 with 1 Axes>"
      ]
     },
     "metadata": {
      "needs_background": "light"
     },
     "output_type": "display_data"
    }
   ],
   "source": [
    "\n",
    "fun2 = model.params['Projector_direct_2']['w1']\n",
    "fun1 = model.params['Projector_direct_1']['w1']\n",
    "fun0 = model.params['Projector_direct_0']['w1']\n",
    "xx0 = jnp.linspace(0, 1, 2**K+2)[1:-1]\n",
    "xx1 = jnp.linspace(0, 1, 2**(K-1)+2)[1:-1]\n",
    "xx2 = jnp.linspace(0, 1, 2**(K-2)+2)[1:-1]\n",
    "\n",
    "plt.plot(xx0, fun0, label='0')\n",
    "plt.plot(xx1, fun1, label='1')\n",
    "plt.plot(xx2, fun2, label='2')\n",
    "plt.legend()"
   ]
  },
  {
   "cell_type": "markdown",
   "metadata": {},
   "source": [
    "1) что делает мето апдейт? (mat и lp  одно и то же)\n",
    "\n",
    "\n",
    "\n",
    "\n",
    "\n",
    "\n",
    "\n",
    "3) почему иы ссразу не можем инициализировать проекторы матрицей лапласа?\n",
    "\n",
    "\n",
    "4) почему $x\\_batch$ именно такой ?\n",
    "\n",
    "\n",
    "5) почему мы вычитаем из элементов $x\\_batch$ y = y - By\n",
    "\n",
    "6) вопросы в лоссе"
   ]
  },
  {
   "cell_type": "code",
   "execution_count": 45,
   "metadata": {},
   "outputs": [],
   "source": [
    "import numpy as np"
   ]
  },
  {
   "cell_type": "code",
   "execution_count": 46,
   "metadata": {},
   "outputs": [],
   "source": [
    "b = np.arange(5)"
   ]
  },
  {
   "cell_type": "code",
   "execution_count": 76,
   "metadata": {},
   "outputs": [
    {
     "data": {
      "text/plain": [
       "array([[0, 1, 2],\n",
       "       [3, 4, 5]])"
      ]
     },
     "execution_count": 76,
     "metadata": {},
     "output_type": "execute_result"
    }
   ],
   "source": [
    "c = np.arange(6).reshape(2,3)\n",
    "# c[0][0] =10\n",
    "c"
   ]
  },
  {
   "cell_type": "code",
   "execution_count": 83,
   "metadata": {},
   "outputs": [
    {
     "data": {
      "text/plain": [
       "array([ 3, 12])"
      ]
     },
     "execution_count": 83,
     "metadata": {},
     "output_type": "execute_result"
    }
   ],
   "source": [
    "np.einsum(' ib->b', c)"
   ]
  },
  {
   "cell_type": "code",
   "execution_count": 81,
   "metadata": {},
   "outputs": [
    {
     "data": {
      "text/plain": [
       "(array([[0, 3],\n",
       "        [1, 4],\n",
       "        [2, 5]]),\n",
       " array([3, 5, 7]))"
      ]
     },
     "execution_count": 81,
     "metadata": {},
     "output_type": "execute_result"
    }
   ],
   "source": [
    "np.einsum(' ib', c) , np.einsum(' ib->b', c) "
   ]
  },
  {
   "cell_type": "code",
   "execution_count": 82,
   "metadata": {},
   "outputs": [
    {
     "data": {
      "text/plain": [
       "array([ 9, 17, 29])"
      ]
     },
     "execution_count": 82,
     "metadata": {},
     "output_type": "execute_result"
    }
   ],
   "source": [
    "np.einsum('ib,  ib->b', c, c) "
   ]
  },
  {
   "cell_type": "code",
   "execution_count": 84,
   "metadata": {},
   "outputs": [],
   "source": [
    "d = np.einsum(' ib', c)"
   ]
  },
  {
   "cell_type": "code",
   "execution_count": 85,
   "metadata": {},
   "outputs": [
    {
     "data": {
      "text/plain": [
       "array([[0, 3],\n",
       "       [1, 4],\n",
       "       [2, 5]])"
      ]
     },
     "execution_count": 85,
     "metadata": {},
     "output_type": "execute_result"
    }
   ],
   "source": [
    "d"
   ]
  },
  {
   "cell_type": "code",
   "execution_count": 86,
   "metadata": {},
   "outputs": [
    {
     "data": {
      "text/plain": [
       "array([[ 9, 12, 15],\n",
       "       [12, 17, 22],\n",
       "       [15, 22, 29]])"
      ]
     },
     "execution_count": 86,
     "metadata": {},
     "output_type": "execute_result"
    }
   ],
   "source": [
    "d@c"
   ]
  },
  {
   "cell_type": "markdown",
   "metadata": {},
   "source": [
    "2) jnp.mean(jnp.einsum('ib, ib->b', y, y)) ??????????????????????????÷ up"
   ]
  },
  {
   "cell_type": "code",
   "execution_count": null,
   "metadata": {},
   "outputs": [],
   "source": []
  }
 ],
 "metadata": {
  "kernelspec": {
   "display_name": "Python 3",
   "language": "python",
   "name": "python3"
  },
  "language_info": {
   "codemirror_mode": {
    "name": "ipython",
    "version": 3
   },
   "file_extension": ".py",
   "mimetype": "text/x-python",
   "name": "python",
   "nbconvert_exporter": "python",
   "pygments_lexer": "ipython3",
   "version": "3.8.2"
  }
 },
 "nbformat": 4,
 "nbformat_minor": 4
}
