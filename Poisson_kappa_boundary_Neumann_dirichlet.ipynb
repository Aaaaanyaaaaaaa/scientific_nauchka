{
 "cells": [
  {
   "cell_type": "code",
   "execution_count": 1,
   "metadata": {},
   "outputs": [],
   "source": [
    "from __future__ import print_function\n",
    "from fenics import *\n",
    "from mshr import *\n",
    "import matplotlib.pyplot as plt"
   ]
  },
  {
   "cell_type": "code",
   "execution_count": 2,
   "metadata": {},
   "outputs": [],
   "source": [
    "\n",
    "# Create mesh and define function space\n",
    "mesh = UnitSquareMesh(8, 8)\n",
    "\n",
    "V = FunctionSpace(mesh, 'P', 1)\n",
    "u = TrialFunction(V)\n",
    "v = TestFunction(V)\n",
    "\n",
    "#define kappa\n",
    "kappa = Expression('x[0]*x[1]', degree=2)\n",
    "\n",
    "#define right hand side func\n",
    "f = Constant(-6.0)\n",
    "\n",
    "# Define Dirichlet boundary condition\n",
    "u_D = Expression('1 + x[0]*x[0] + 2*x[1]*x[1]', degree=2)\n",
    "\n",
    "# Define Neumann boundary condition\n",
    "g = Expression('23 + x[0]', degree=1)\n",
    "\n",
    "\n",
    "#defining markers for diff parts of. boundurt\n",
    "boundary_markers = MeshFunction('size_t',mesh,  mesh.topology().dim()-1, 0)"
   ]
  },
  {
   "cell_type": "code",
   "execution_count": 3,
   "metadata": {},
   "outputs": [],
   "source": [
    "tol = 1e-10\n",
    "\n",
    "class BoundaryX0(SubDomain):\n",
    "        def inside(self, x, on_boundary):\n",
    "            return on_boundary and near(x[0], 0, tol)\n",
    "\n",
    "class BoundaryX1(SubDomain):\n",
    "    def inside(self, x, on_boundary):\n",
    "        return on_boundary and near(x[0], 1, tol)\n",
    "\n",
    "class BoundaryY0(SubDomain):\n",
    "    def inside(self, x, on_boundary):\n",
    "        return on_boundary and near(x[1], 0, tol)\n",
    "\n",
    "class BoundaryY1(SubDomain):\n",
    "    def inside(self, x, on_boundary):\n",
    "        return on_boundary and near(x[1], 1, tol)\n",
    "\n",
    "# Mark boundaries\n",
    "\n",
    "bx0 = BoundaryX0()\n",
    "bx1 = BoundaryX1()\n",
    "by0 = BoundaryY0()\n",
    "by1 = BoundaryY1()\n",
    "bx0.mark(boundary_markers, 0)\n",
    "bx1.mark(boundary_markers, 1)\n",
    "by0.mark(boundary_markers, 2)\n",
    "by1.mark(boundary_markers, 3)\n"
   ]
  },
  {
   "cell_type": "code",
   "execution_count": 4,
   "metadata": {},
   "outputs": [],
   "source": [
    "boundary_conditions = {0: {'Dirichlet': u_D},\n",
    "                      1: {'Dirichlet': 0},\n",
    "                      2: {'Neumann' : g},\n",
    "                      3: {'Neumann' : 0}}"
   ]
  },
  {
   "cell_type": "code",
   "execution_count": 5,
   "metadata": {},
   "outputs": [],
   "source": [
    "# Collect Dirichlet conditions\n",
    "bcs = []\n",
    "for i in boundary_conditions:\n",
    "    if 'Dirichlet' in boundary_conditions[i]:\n",
    "        bc = DirichletBC(V, boundary_conditions[i]['Dirichlet'],\n",
    "                         boundary_markers, i)\n",
    "        bcs.append(bc)\n"
   ]
  },
  {
   "cell_type": "code",
   "execution_count": 6,
   "metadata": {},
   "outputs": [],
   "source": [
    "# to express ints over the boundary parts we must redifine the mesuare ds in terms of boundary markers\n",
    "\n",
    "ds = Measure('ds', domain=mesh, subdomain_data=boundary_markers)\n",
    "# dx = Measure('dx', domain=mesh, subdomain_data=boundary_markers)\n"
   ]
  },
  {
   "cell_type": "code",
   "execution_count": 7,
   "metadata": {},
   "outputs": [],
   "source": [
    "#Collect Neumann integrals\n",
    "integrals_N = []\n",
    "for i in boundary_conditions:\n",
    "    if 'Neumann' in boundary_conditions[i]:\n",
    "        if boundary_conditions[i]['Neumann'] != 0:\n",
    "            g = boundary_conditions[i]['Neumann']\n",
    "            integrals_N.append(g*v*ds(i))\n"
   ]
  },
  {
   "cell_type": "code",
   "execution_count": 8,
   "metadata": {},
   "outputs": [],
   "source": [
    "F = kappa*dot(grad(u), grad(v))*dx + f*v*dx +sum(integrals_N)\n",
    "a, L = lhs(F), rhs(F)\n",
    "\n",
    "# a = kappa*dot(grad(u), grad(v))*dx \n",
    "# L = f*v*dx - sum(integrals_N) "
   ]
  },
  {
   "cell_type": "code",
   "execution_count": 9,
   "metadata": {},
   "outputs": [
    {
     "data": {
      "image/png": "[encoded data removed]",
      "text/plain": [
       "<Figure size 432x288 with 1 Axes>"
      ]
     },
     "metadata": {
      "needs_background": "light"
     },
     "output_type": "display_data"
    }
   ],
   "source": [
    "# Compute solution\n",
    "\n",
    "\n",
    "\n",
    "u = Function(V)\n",
    "solve(a == L, u, bcs)\n",
    "\n",
    "# Plot solution and mesh\n",
    "plot(u)\n",
    "plot(mesh)\n",
    "\n",
    "\n",
    "# Save solution to file in VTK format\n",
    "vtkfile = File('poisson/solution.pvd')\n",
    "vtkfile << u\n",
    "\n",
    "# Compute error in L2 norm\n",
    "error_L2 = errornorm(u_D, u, 'L2')\n",
    "\n",
    "# Compute maximum error at vertices\n",
    "# vertex_values_u_D = u_D.compute_vertex_values(mesh)\n",
    "vertex_values_u = u.compute_vertex_values(mesh)\n",
    "# import numpy as np\n",
    "# error_max = np.max(np.abs(vertex_values_u_D - vertex_values_u))\n",
    "\n",
    "# # Print errors\n",
    "# print('error_L2  =', error_L2)\n",
    "# print('error_max =', error_max)\n",
    "\n",
    "# Hold plot\n",
    "plt.show()"
   ]
  },
  {
   "cell_type": "code",
   "execution_count": 10,
   "metadata": {},
   "outputs": [
    {
     "data": {
      "text/plain": [
       "array([1.      , 1.015625, 1.0625  , 1.140625, 1.25    , 1.390625,\n",
       "       1.5625  , 1.765625, 0.      , 1.03125 , 1.046875, 1.09375 ,\n",
       "       1.171875, 1.28125 , 1.421875, 1.59375 , 1.796875, 0.      ,\n",
       "       1.125   , 1.140625, 1.1875  , 1.265625, 1.375   , 1.515625,\n",
       "       1.6875  , 1.890625, 0.      , 1.28125 , 1.296875, 1.34375 ,\n",
       "       1.421875, 1.53125 , 1.671875, 1.84375 , 2.046875, 0.      ,\n",
       "       1.5     , 1.515625, 1.5625  , 1.640625, 1.75    , 1.890625,\n",
       "       2.0625  , 2.265625, 0.      , 1.78125 , 1.796875, 1.84375 ,\n",
       "       1.921875, 2.03125 , 2.171875, 2.34375 , 2.546875, 0.      ,\n",
       "       2.125   , 2.140625, 2.1875  , 2.265625, 2.375   , 2.515625,\n",
       "       2.6875  , 2.890625, 0.      , 2.53125 , 2.546875, 2.59375 ,\n",
       "       2.671875, 2.78125 , 2.921875, 3.09375 , 3.296875, 0.      ,\n",
       "       3.      , 3.015625, 3.0625  , 3.140625, 3.25    , 3.390625,\n",
       "       3.5625  , 3.765625, 0.      ])"
      ]
     },
     "execution_count": 10,
     "metadata": {},
     "output_type": "execute_result"
    }
   ],
   "source": [
    "\n",
    "vertex_values_u "
   ]
  },
  {
   "cell_type": "code",
   "execution_count": 11,
   "metadata": {},
   "outputs": [
    {
     "data": {
      "text/plain": [
       "array([0.      , 0.      , 0.      , 0.      , 0.      , 0.      ,\n",
       "       0.      , 0.      , 0.      , 0.      , 0.015625, 0.03125 ,\n",
       "       0.046875, 0.0625  , 0.078125, 0.09375 , 0.109375, 0.125   ,\n",
       "       0.      , 0.03125 , 0.0625  , 0.09375 , 0.125   , 0.15625 ,\n",
       "       0.1875  , 0.21875 , 0.25    , 0.      , 0.046875, 0.09375 ,\n",
       "       0.140625, 0.1875  , 0.234375, 0.28125 , 0.328125, 0.375   ,\n",
       "       0.      , 0.0625  , 0.125   , 0.1875  , 0.25    , 0.3125  ,\n",
       "       0.375   , 0.4375  , 0.5     , 0.      , 0.078125, 0.15625 ,\n",
       "       0.234375, 0.3125  , 0.390625, 0.46875 , 0.546875, 0.625   ,\n",
       "       0.      , 0.09375 , 0.1875  , 0.28125 , 0.375   , 0.46875 ,\n",
       "       0.5625  , 0.65625 , 0.75    , 0.      , 0.109375, 0.21875 ,\n",
       "       0.328125, 0.4375  , 0.546875, 0.65625 , 0.765625, 0.875   ,\n",
       "       0.      , 0.125   , 0.25    , 0.375   , 0.5     , 0.625   ,\n",
       "       0.75    , 0.875   , 1.      ])"
      ]
     },
     "execution_count": 11,
     "metadata": {},
     "output_type": "execute_result"
    }
   ],
   "source": [
    "vertex_values_kappa = kappa.compute_vertex_values(mesh)\n",
    "vertex_values_kappa"
   ]
  },
  {
   "cell_type": "code",
   "execution_count": null,
   "metadata": {},
   "outputs": [],
   "source": []
  }
 ],
 "metadata": {
  "kernelspec": {
   "display_name": "Python 3",
   "language": "python",
   "name": "python3"
  },
  "language_info": {
   "codemirror_mode": {
    "name": "ipython",
    "version": 3
   },
   "file_extension": ".py",
   "mimetype": "text/x-python",
   "name": "python",
   "nbconvert_exporter": "python",
   "pygments_lexer": "ipython3",
   "version": "3.8.2"
  }
 },
 "nbformat": 4,
 "nbformat_minor": 4
}
