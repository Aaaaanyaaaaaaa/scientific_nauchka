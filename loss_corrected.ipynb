{
  "nbformat": 4,
  "nbformat_minor": 0,
  "metadata": {
    "colab": {
      "name": "loss_corrected.ipynb",
      "provenance": []
    },
    "kernelspec": {
      "name": "python3",
      "display_name": "Python 3"
    },
    "accelerator": "GPU"
  },
  "cells": [
    {
      "cell_type": "code",
      "metadata": {
        "id": "piukNbeHDVWC",
        "outputId": "65d9ba4e-5399-4aba-ce34-aa04055b6ec5",
        "colab": {
          "base_uri": "https://localhost:8080/"
        }
      },
      "source": [
        "!pip install flax"
      ],
      "execution_count": 1,
      "outputs": [
        {
          "output_type": "stream",
          "text": [
            "Requirement already satisfied: flax in /usr/local/lib/python3.6/dist-packages (0.2.2)\n",
            "Requirement already satisfied: dataclasses; python_version < \"3.7\" in /usr/local/lib/python3.6/dist-packages (from flax) (0.7)\n",
            "Requirement already satisfied: numpy>=1.12 in /usr/local/lib/python3.6/dist-packages (from flax) (1.18.5)\n",
            "Requirement already satisfied: msgpack in /usr/local/lib/python3.6/dist-packages (from flax) (1.0.0)\n",
            "Requirement already satisfied: matplotlib in /usr/local/lib/python3.6/dist-packages (from flax) (3.2.2)\n",
            "Requirement already satisfied: jax>=0.1.59 in /usr/local/lib/python3.6/dist-packages (from flax) (0.2.4)\n",
            "Requirement already satisfied: kiwisolver>=1.0.1 in /usr/local/lib/python3.6/dist-packages (from matplotlib->flax) (1.2.0)\n",
            "Requirement already satisfied: cycler>=0.10 in /usr/local/lib/python3.6/dist-packages (from matplotlib->flax) (0.10.0)\n",
            "Requirement already satisfied: pyparsing!=2.0.4,!=2.1.2,!=2.1.6,>=2.0.1 in /usr/local/lib/python3.6/dist-packages (from matplotlib->flax) (2.4.7)\n",
            "Requirement already satisfied: python-dateutil>=2.1 in /usr/local/lib/python3.6/dist-packages (from matplotlib->flax) (2.8.1)\n",
            "Requirement already satisfied: absl-py in /usr/local/lib/python3.6/dist-packages (from jax>=0.1.59->flax) (0.10.0)\n",
            "Requirement already satisfied: opt-einsum in /usr/local/lib/python3.6/dist-packages (from jax>=0.1.59->flax) (3.3.0)\n",
            "Requirement already satisfied: six in /usr/local/lib/python3.6/dist-packages (from cycler>=0.10->matplotlib->flax) (1.15.0)\n"
          ],
          "name": "stdout"
        }
      ]
    },
    {
      "cell_type": "code",
      "metadata": {
        "id": "oM_QvGN_DXA9",
        "outputId": "41663f4b-1cbc-438b-ffc8-c7d74d30e6e8",
        "colab": {
          "base_uri": "https://localhost:8080/"
        }
      },
      "source": [
        "# Detect if we are in Google Colaboratory\n",
        "try:\n",
        "    import google.colab\n",
        "    IN_COLAB = True\n",
        "except ImportError:\n",
        "    IN_COLAB = False\n",
        "\n",
        "from pathlib import Path\n",
        "if IN_COLAB:\n",
        "    google.colab.drive.mount(\"/content/drive\")\n",
        "    \n",
        "    # Change this if you created the shortcut in a different location\n",
        "    AUX_DATA_ROOT = Path(\"/content/drive/My Drive/weightsFlax\")\n",
        "    \n",
        "    assert AUX_DATA_ROOT.is_dir(), \"Have you forgot to 'Add a shortcut to Drive'?\"\n",
        "    \n",
        "    import sys\n",
        "    sys.path.insert(0, str(AUX_DATA_ROOT))\n",
        "else:\n",
        "    AUX_DATA_ROOT = Path(\".\")"
      ],
      "execution_count": 2,
      "outputs": [
        {
          "output_type": "stream",
          "text": [
            "Drive already mounted at /content/drive; to attempt to forcibly remount, call drive.mount(\"/content/drive\", force_remount=True).\n"
          ],
          "name": "stdout"
        }
      ]
    },
    {
      "cell_type": "code",
      "metadata": {
        "id": "rsbEufNvDdKb"
      },
      "source": [
        "import numpy as np\n",
        "import jax\n",
        "import jax.numpy as jnp\n",
        "import matplotlib.pyplot as plt\n",
        "import flax \n",
        "import flax.nn as nn"
      ],
      "execution_count": 3,
      "outputs": []
    },
    {
      "cell_type": "code",
      "metadata": {
        "id": "d9KltYt4DrjZ"
      },
      "source": [
        "def P_local_matvec(k, K, w1, w2, x):\n",
        "    x1 = x.reshape((2**k, -1))\n",
        "    tmp = jnp.zeros(x1.shape)\n",
        "    tmp = jax.ops.index_update(tmp, jax.ops.index[:-1, :], x1[1:, :])\n",
        "    res = (x1@w1) + (tmp@w2)\n",
        "    return res.flatten()\n",
        "\n",
        "\n",
        "def P_local_matvec_t(k, K, w1, w2, x):\n",
        "    x1 = x.reshape((2**k, -1))     #Can we make a 2D version\n",
        "    tmp = jnp.zeros(x1.shape)\n",
        "    tmp = jax.ops.index_update(tmp, jax.ops.index[1:, :], x1[:-1, :])\n",
        "    res = x1@w1.T + (tmp@w2.T)\n",
        "\n",
        "    return res.flatten()\n",
        "\n",
        "\n",
        "class Projector_direct(nn.Module):\n",
        "    def apply(self, x, k, K):\n",
        "        s = (K-k)\n",
        "        sp = (2**s, 1)\n",
        "        w1 = self.param('w1', sp, nn.initializers.lecun_normal())\n",
        "        w2 = self.param('w2', sp, nn.initializers.lecun_normal())\n",
        "        x1 = x.reshape((2**k, -1))\n",
        "        y = P_local_matvec(k, K, w1, w2, x1)\n",
        "        z = P_local_matvec_t(k, K, w1, w2, y)\n",
        "        z = z.reshape(x.shape)\n",
        "        return z\n"
      ],
      "execution_count": 4,
      "outputs": []
    },
    {
      "cell_type": "code",
      "metadata": {
        "id": "2n4D9323DxUy"
      },
      "source": [
        "def get_init_params(k, K):\n",
        "    s = (K-k)\n",
        "    xi = jnp.ones(2**s)\n",
        "    eta = (jnp.arange(2**s) + 1)*1.0*(2**(-s))\n",
        "    xi = jnp.reshape(xi, (-1, 1))\n",
        "    eta = jnp.reshape(eta, (-1, 1))\n",
        "    w1 = eta\n",
        "    w2 = xi - eta\n",
        "    w1 = w1*(2**(-s/2))\n",
        "    w2 = w2*(2**(-s/2))\n",
        "    return w1, w2"
      ],
      "execution_count": 5,
      "outputs": []
    },
    {
      "cell_type": "code",
      "metadata": {
        "id": "F2d_BdnND0GR"
      },
      "source": [
        "class BPX(nn.Module):\n",
        "    def apply(self, x, K):\n",
        "        y = jnp.zeros(x.shape)\n",
        "        for k in range(K+1):\n",
        "            scale = self.param('scale_{0:d}'.format(k), (1, ), nn.initializers.ones)\n",
        "            y = y + 0.5*(scale + abs(scale))*Projector_direct(x, k, K)\n",
        "        return y\n",
        "\n",
        "\n",
        "def init_BPX(K, model):\n",
        "    params = {}\n",
        "    for k in range(K+1):\n",
        "        name = 'Projector_direct_{0:d}'.format(k)\n",
        "        scale_name = 'scale_{0:d}'.format(k)\n",
        "        w1, w2 = get_init_params(k, K)\n",
        "        loc_params = {'w1': w1, 'w2': w2}\n",
        "        params[name] = loc_params\n",
        "        params[scale_name] = jnp.reshape(2**(-k), (1, ))*0.05\n",
        "        #params[scale_name] = jnp.reshape(2**(-k), (1, ))*1e-2\n",
        "\n",
        "    return model.replace(params=params)"
      ],
      "execution_count": 6,
      "outputs": []
    },
    {
      "cell_type": "code",
      "metadata": {
        "id": "q5tUY73_D2fc"
      },
      "source": [
        "# def loss(dpx_model, mat, x):\n",
        "#     sz = x.shape\n",
        "#     y = x\n",
        "#     dpx_model_batch = jax.vmap(dpx_model, 1, 1) \n",
        "#     z = y\n",
        "#     for i in range(3):\n",
        "#         z = y.reshape(y.shape) \n",
        "#         By = dpx_model_batch(z) \n",
        "#         By = jnp.reshape(By, y.shape)\n",
        "#         By = mat@By \n",
        "#         By = dpx_model_batch(By) \n",
        "        \n",
        "#         y = y - By \n",
        "#     return jnp.mean(jnp.einsum('ib, ib->b', y, y))"
      ],
      "execution_count": 7,
      "outputs": []
    },
    {
      "cell_type": "code",
      "metadata": {
        "id": "dspEmW_O1Qr_"
      },
      "source": [
        "def loss(dpx_model, mat, x):\n",
        "    sz = x.shape\n",
        "    y = x\n",
        "    dpx_model_batch = jax.vmap(dpx_model, 1, 1) \n",
        "    z = y\n",
        "    k = 20\n",
        "    for i in range(k):\n",
        "        z = y.reshape(y.shape) \n",
        "        By = dpx_model_batch(z) \n",
        "        By = jnp.reshape(By, y.shape)\n",
        "        By = mat@By \n",
        "        By = dpx_model_batch(By) \n",
        "        \n",
        "        y = y - By \n",
        "    answer = jnp.mean(jnp.einsum('ib, ib->b', y, y))\n",
        "    return jnp.power(answer, 1/(2*k))"
      ],
      "execution_count": 7,
      "outputs": []
    },
    {
      "cell_type": "code",
      "metadata": {
        "id": "R2k_ZlQQKDeG"
      },
      "source": [
        "rng = jax.random.PRNGKey(2010)\n",
        "rng, key = jax.random.split(rng)\n",
        "\n",
        "K = 5\n",
        "B_cur = BPX.partial(K=K)\n",
        "n = 2**K\n",
        "x0 = jnp.ones(n)\n",
        "_, init_params = B_cur.init(key, x0)\n",
        "init_model = nn.Model(B_cur, init_params)\n",
        "true_BPX = init_BPX(K, init_model)\n",
        "\n",
        "# K = 5\n",
        "# n = 2**K \n",
        "z = jnp.diag(jnp.ones(n-1), -1)\n",
        "e = jnp.eye(n)\n",
        "lp = 2*e - z - z.T\n",
        "lp = lp*(n+1)**2\n",
        "\n",
        "c = 1e2 # convection coefficient\n",
        "\n",
        "mat = lp\n",
        "model = true_BPX"
      ],
      "execution_count": 8,
      "outputs": []
    },
    {
      "cell_type": "code",
      "metadata": {
        "id": "4BmLxMsVI0Pf"
      },
      "source": [
        "x0 = jnp.ones(n)\n",
        "v_r =  jax.random.uniform(key, x0.shape)"
      ],
      "execution_count": 9,
      "outputs": []
    },
    {
      "cell_type": "code",
      "metadata": {
        "id": "xQRtxTsfI7kT",
        "outputId": "068efb9d-722d-44f0-d866-a191245baed8",
        "colab": {
          "base_uri": "https://localhost:8080/",
          "height": 164
        }
      },
      "source": [
        "vr"
      ],
      "execution_count": 10,
      "outputs": [
        {
          "output_type": "error",
          "ename": "NameError",
          "evalue": "ignored",
          "traceback": [
            "\u001b[0;31m---------------------------------------------------------------------------\u001b[0m",
            "\u001b[0;31mNameError\u001b[0m                                 Traceback (most recent call last)",
            "\u001b[0;32m<ipython-input-10-cc46c56fc5be>\u001b[0m in \u001b[0;36m<module>\u001b[0;34m()\u001b[0m\n\u001b[0;32m----> 1\u001b[0;31m \u001b[0mvr\u001b[0m\u001b[0;34m\u001b[0m\u001b[0;34m\u001b[0m\u001b[0m\n\u001b[0m",
            "\u001b[0;31mNameError\u001b[0m: name 'vr' is not defined"
          ]
        }
      ]
    },
    {
      "cell_type": "code",
      "metadata": {
        "id": "mP5uyf7cD7dq"
      },
      "source": [
        "def power_method(dpx_model, mat, x = v_r):\n",
        "  x1 = x\n",
        "  z = jnp.eye(mat.shape[0])\n",
        "  dpx = jax.vmap(dpx_model, 1, 1) \n",
        "  prec = dpx(z)\n",
        "  for i in range(500):\n",
        "    matrix = z - prec @ mat @ prec\n",
        "    vec = matrix @ x\n",
        "    vec = vec / jnp.linalg.norm(x)\n",
        "    eigen = vec @ x\n",
        "    x = vec\n",
        "    # if (jnp.linalg.norm(vec - eigen*x1)<=0.000001):\n",
        "    #       # print('in if')\n",
        "    #     return eigen\n",
        "\n",
        "  return eigen"
      ],
      "execution_count": 10,
      "outputs": []
    },
    {
      "cell_type": "code",
      "metadata": {
        "id": "MXMWt4BfTMrj"
      },
      "source": [
        "def true_eig(dpx_model, mat):\n",
        "  z = jnp.eye(mat.shape[0])\n",
        "  dpx = jax.vmap(dpx_model, 1, 1) \n",
        "  prec = dpx(z)\n",
        "  matrix = z - prec @ mat @ prec\n",
        "  w, _ = np.linalg.eig(z - prec@mat@prec)\n",
        "  return  max(w)"
      ],
      "execution_count": 11,
      "outputs": []
    },
    {
      "cell_type": "code",
      "metadata": {
        "id": "YtokyaY21ZfH",
        "outputId": "c1e5f50a-2d66-459f-f23a-8e94c213b753",
        "colab": {
          "base_uri": "https://localhost:8080/"
        }
      },
      "source": [
        "array = jnp.array([ 0,   1,   8,  27,  64, 125])\n",
        "jnp.power(array, 1/3)"
      ],
      "execution_count": 13,
      "outputs": [
        {
          "output_type": "execute_result",
          "data": {
            "text/plain": [
              "DeviceArray([0., 1., 2., 3., 4., 5.], dtype=float32)"
            ]
          },
          "metadata": {
            "tags": []
          },
          "execution_count": 13
        }
      ]
    },
    {
      "cell_type": "code",
      "metadata": {
        "id": "d_kimgQW1szy",
        "outputId": "90bbb2ca-2e64-47bd-82da-1e4c60909354",
        "colab": {
          "base_uri": "https://localhost:8080/"
        }
      },
      "source": [
        "z = jnp.eye(mat.shape[0])\n",
        "dpx = jax.vmap(model, 1, 1) \n",
        "prec = dpx(z)\n",
        "matrix = z - prec @ mat @ prec\n",
        "np.mean(np.diag(matrix))"
      ],
      "execution_count": 13,
      "outputs": [
        {
          "output_type": "execute_result",
          "data": {
            "text/plain": [
              "0.97911835"
            ]
          },
          "metadata": {
            "tags": []
          },
          "execution_count": 13
        }
      ]
    },
    {
      "cell_type": "code",
      "metadata": {
        "id": "5-IFXoWn2dbs",
        "outputId": "59587315-30ec-48c0-bc86-3e468d6311c9",
        "colab": {
          "base_uri": "https://localhost:8080/"
        }
      },
      "source": [
        "jnp.mean(jnp.einsum('ib, ib->b', matrix, matrix))"
      ],
      "execution_count": 30,
      "outputs": [
        {
          "output_type": "execute_result",
          "data": {
            "text/plain": [
              "DeviceArray(0.96039873, dtype=float32)"
            ]
          },
          "metadata": {
            "tags": []
          },
          "execution_count": 30
        }
      ]
    },
    {
      "cell_type": "code",
      "metadata": {
        "id": "CGLvvLLPPy4g",
        "outputId": "64b8f3a9-e1b7-49cb-8249-cd8cd918fd6d",
        "colab": {
          "base_uri": "https://localhost:8080/"
        }
      },
      "source": [
        "power_method(model, mat)"
      ],
      "execution_count": 15,
      "outputs": [
        {
          "output_type": "execute_result",
          "data": {
            "text/plain": [
              "DeviceArray(0.9879836, dtype=float32)"
            ]
          },
          "metadata": {
            "tags": []
          },
          "execution_count": 15
        }
      ]
    },
    {
      "cell_type": "code",
      "metadata": {
        "id": "vP42G0RKU-Am",
        "outputId": "aac60287-a318-4cd8-b854-03ca9c637c74",
        "colab": {
          "base_uri": "https://localhost:8080/"
        }
      },
      "source": [
        "true_eig(model, mat)"
      ],
      "execution_count": 16,
      "outputs": [
        {
          "output_type": "execute_result",
          "data": {
            "text/plain": [
              "0.9946746"
            ]
          },
          "metadata": {
            "tags": []
          },
          "execution_count": 16
        }
      ]
    },
    {
      "cell_type": "code",
      "metadata": {
        "id": "oOpFCWZSQUkj",
        "outputId": "5960990c-9927-4ecd-a4cd-6ee18573bbed",
        "colab": {
          "base_uri": "https://localhost:8080/"
        }
      },
      "source": [
        "z = jnp.eye(mat.shape[0])\n",
        "dpx = jax.vmap(model, 1, 1) \n",
        "prec = dpx(z)\n",
        "prec.shape"
      ],
      "execution_count": 33,
      "outputs": [
        {
          "output_type": "execute_result",
          "data": {
            "text/plain": [
              "(32, 32)"
            ]
          },
          "metadata": {
            "tags": []
          },
          "execution_count": 33
        }
      ]
    },
    {
      "cell_type": "code",
      "metadata": {
        "id": "70M4OZfqP5lB"
      },
      "source": [
        "w, _ = np.linalg.eig(z - prec@mat@prec)"
      ],
      "execution_count": 34,
      "outputs": []
    },
    {
      "cell_type": "code",
      "metadata": {
        "id": "W2lPWROlQdVY",
        "outputId": "d25c327a-e499-4cb9-9976-75d50616f316",
        "colab": {
          "base_uri": "https://localhost:8080/"
        }
      },
      "source": [
        "max(w)"
      ],
      "execution_count": 35,
      "outputs": [
        {
          "output_type": "execute_result",
          "data": {
            "text/plain": [
              "0.9946746"
            ]
          },
          "metadata": {
            "tags": []
          },
          "execution_count": 35
        }
      ]
    },
    {
      "cell_type": "code",
      "metadata": {
        "id": "C_y0iG2qQeEm"
      },
      "source": [
        "n = 2**K\n",
        "batch_size = 512\n",
        "x_batch = jax.random.normal(key, (n, batch_size))\n",
        "x_batch_eye = jnp.eye(n)\n",
        "x_batch = x_batch/jnp.linalg.norm(x_batch, axis=0)[None, :]"
      ],
      "execution_count": 12,
      "outputs": []
    },
    {
      "cell_type": "code",
      "metadata": {
        "id": "MmwdV5tCRNct"
      },
      "source": [
        "@jax.jit\n",
        "def update(opt, x):\n",
        "    # eig = jnp.mean(jnp.mean(power_method_update(opt.target, mat, x)))\n",
        "    l1, grad1 = jax.value_and_grad(loss)(opt.target, mat, x)\n",
        "    return   l1, opt.apply_gradient(grad1)"
      ],
      "execution_count": 13,
      "outputs": []
    },
    {
      "cell_type": "code",
      "metadata": {
        "id": "KoYDjcXdSH4Y"
      },
      "source": [
        "opt = flax.optim.Adam(1e-5).create(model)"
      ],
      "execution_count": 14,
      "outputs": []
    },
    {
      "cell_type": "code",
      "metadata": {
        "id": "-veH3mv8SJxW"
      },
      "source": [
        "import matplotlib.pyplot as plt\n",
        "loss_array = []\n",
        "eigen_array = []\n",
        "true_eigs = []"
      ],
      "execution_count": 15,
      "outputs": []
    },
    {
      "cell_type": "code",
      "metadata": {
        "id": "dPdaS15eSL2g"
      },
      "source": [
        "from IPython import display\n",
        "import numpy as np\n",
        "import matplotlib.pyplot as plt\n",
        "\n",
        "\n",
        "def plot(loss_history, eig_history, eigs_true, iter_number, clear_output=True):\n",
        "    if clear_output:\n",
        "        display.clear_output(wait=True)\n",
        "    #eigs_true, ax.plot(eigs_true, label = 'true eigs')\n",
        "    fig, ax = plt.subplots(1, 1, figsize=(12, 8))\n",
        "    ax.plot(loss_history, label = 'loss_history')\n",
        "    ax.plot(eigs_true, label = 'true eigs')\n",
        "    if eig_history:\n",
        "      ax.plot(eig_history, label = 'eig_history')\n",
        "    ax.set_title('loss and eig decay')\n",
        "    ax.set_xlabel('# iteration processed')\n",
        "    # ax.set_ylabel('loss value')\n",
        "    ax.legend()\n",
        "\n",
        "    plt.show()  "
      ],
      "execution_count": 16,
      "outputs": []
    },
    {
      "cell_type": "code",
      "metadata": {
        "id": "HpoQpdw9ST2j",
        "outputId": "602035c3-69c6-4e0e-99d4-5e37116c8cb3",
        "colab": {
          "base_uri": "https://localhost:8080/",
          "height": 530
        }
      },
      "source": [
        "from tqdm import tqdm\n",
        "\n",
        "for i in tqdm(range(1000)):\n",
        "    loss_val, opt = update(opt, x_batch)\n",
        "\n",
        "    true_eigs.append(true_eig(opt.target, mat))\n",
        "    if (i+1)%100 == 0:\n",
        "      eig_val = power_method(opt.target, mat)\n",
        "      eigen_array.extend(100*[eig_val])\n",
        "    loss_array.append(loss_val)\n",
        "    # eigen_array.append(eig_val)\n",
        "    plot(loss_array, eigen_array, true_eigs,  i)"
      ],
      "execution_count": 17,
      "outputs": [
        {
          "output_type": "display_data",
          "data": {
            "image/png": "[encoded data removed]",
            "text/plain": [
              "<Figure size 864x576 with 1 Axes>"
            ]
          },
          "metadata": {
            "tags": [],
            "needs_background": "light"
          }
        },
        {
          "output_type": "stream",
          "text": [
            "100%|██████████| 1000/1000 [08:36<00:00,  1.94it/s]\n"
          ],
          "name": "stderr"
        }
      ]
    },
    {
      "cell_type": "code",
      "metadata": {
        "id": "7dGwSAgK2-3u",
        "outputId": "007a5442-c137-4841-fee7-fec0c71a0896",
        "colab": {
          "base_uri": "https://localhost:8080/"
        }
      },
      "source": [
        "a = flax.serialization.msgpack_serialize(opt.target.params)\n",
        "f = open('/content/drive/My Drive/weightsFlax/rigtht_k5i20.txt', 'wb')\n",
        "f.write(a)"
      ],
      "execution_count": 19,
      "outputs": [
        {
          "output_type": "execute_result",
          "data": {
            "text/plain": [
              "961"
            ]
          },
          "metadata": {
            "tags": []
          },
          "execution_count": 19
        }
      ]
    },
    {
      "cell_type": "code",
      "metadata": {
        "id": "eceoaGq3Sffv",
        "outputId": "da56f56b-914f-4192-cbdf-f35bed9d682e",
        "colab": {
          "base_uri": "https://localhost:8080/"
        }
      },
      "source": [
        "  power_method(opt.target, mat)"
      ],
      "execution_count": 99,
      "outputs": [
        {
          "output_type": "execute_result",
          "data": {
            "text/plain": [
              "DeviceArray(0.8486502, dtype=float32)"
            ]
          },
          "metadata": {
            "tags": []
          },
          "execution_count": 99
        }
      ]
    },
    {
      "cell_type": "code",
      "metadata": {
        "id": "T6J9jZDVTpVU",
        "outputId": "b1ebc544-4871-4640-9a8d-1ea0bcc7cce7",
        "colab": {
          "base_uri": "https://localhost:8080/"
        }
      },
      "source": [
        "z = jnp.eye(mat.shape[0])\n",
        "dpx = jax.vmap(opt.target, 1, 1) \n",
        "prec = dpx(z)\n",
        "\n",
        "w, _ = np.linalg.eig(z - prec@mat@prec)\n",
        "max(w)"
      ],
      "execution_count": 101,
      "outputs": [
        {
          "output_type": "execute_result",
          "data": {
            "text/plain": [
              "0.92122215"
            ]
          },
          "metadata": {
            "tags": []
          },
          "execution_count": 101
        }
      ]
    },
    {
      "cell_type": "code",
      "metadata": {
        "id": "GUvyZTYNT5MU",
        "outputId": "4d243bb9-39bd-4da1-cbff-563683f71bae",
        "colab": {
          "base_uri": "https://localhost:8080/"
        }
      },
      "source": [
        "z = jnp.eye(mat.shape[0])\n",
        "dpx = jax.vmap(model, 1, 1) \n",
        "prec = dpx(z)\n",
        "\n",
        "w, _ = np.linalg.eig(z - prec@mat@prec)\n",
        "max(w)"
      ],
      "execution_count": 100,
      "outputs": [
        {
          "output_type": "execute_result",
          "data": {
            "text/plain": [
              "0.9946746"
            ]
          },
          "metadata": {
            "tags": []
          },
          "execution_count": 100
        }
      ]
    },
    {
      "cell_type": "code",
      "metadata": {
        "id": "WS-wFMbvUByQ"
      },
      "source": [
        ""
      ],
      "execution_count": null,
      "outputs": []
    }
  ]
}