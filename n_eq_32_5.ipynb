{
 "cells": [
  {
   "cell_type": "code",
   "execution_count": 1,
   "metadata": {
    "id": "iWAdjFHMSjZz"
   },
   "outputs": [],
   "source": [
    "import numpy as np\n",
    "import jax\n",
    "import jax.numpy as jnp\n",
    "import matplotlib.pyplot as plt\n",
    "import flax \n",
    "import flax.nn as nn"
   ]
  },
  {
   "cell_type": "markdown",
   "metadata": {
    "id": "dfGxxkj8SjZ4"
   },
   "source": [
    "$\\Delta x = f $ - Poisson equation\n",
    "\n",
    "$Fx = f$ in matrix form\n"
   ]
  },
  {
   "cell_type": "code",
   "execution_count": 2,
   "metadata": {
    "id": "5Irii_1ESjZ4"
   },
   "outputs": [],
   "source": [
    "\n",
    "def P_local_matvec(k, K, w1, w2, x):\n",
    "    x1 = x.reshape((2**k, -1))\n",
    "    tmp = jnp.zeros(x1.shape)\n",
    "    tmp = jax.ops.index_update(tmp, jax.ops.index[:-1, :], x1[1:, :])\n",
    "    res = (x1@w1) + (tmp@w2)\n",
    "    return res.flatten()\n",
    "\n",
    "\n",
    "def P_local_matvec_t(k, K, w1, w2, x):\n",
    "    x1 = x.reshape((2**k, -1))     #Can we make a 2D version\n",
    "    tmp = jnp.zeros(x1.shape)\n",
    "    tmp = jax.ops.index_update(tmp, jax.ops.index[1:, :], x1[:-1, :])\n",
    "    res = x1@w1.T + (tmp@w2.T)\n",
    "\n",
    "    return res.flatten()\n",
    "\n",
    "\n",
    "class Projector_direct(nn.Module):\n",
    "    def apply(self, x, k, K):\n",
    "        s = (K-k)\n",
    "        sp = (2**s, 1)\n",
    "        w1 = self.param('w1', sp, nn.initializers.lecun_normal())\n",
    "        w2 = self.param('w2', sp, nn.initializers.lecun_normal())\n",
    "        x1 = x.reshape((2**k, -1))\n",
    "        y = P_local_matvec(k, K, w1, w2, x1)\n",
    "        z = P_local_matvec_t(k, K, w1, w2, y)\n",
    "        z = z.reshape(x.shape)\n",
    "        return z"
   ]
  },
  {
   "cell_type": "code",
   "execution_count": 3,
   "metadata": {
    "id": "z2ExoMeOSjZ7"
   },
   "outputs": [],
   "source": [
    "def get_init_params(k, K):\n",
    "    s = (K-k)\n",
    "    xi = jnp.ones(2**s)\n",
    "    eta = (jnp.arange(2**s) + 1)*1.0*(2**(-s))\n",
    "    xi = jnp.reshape(xi, (-1, 1))\n",
    "    eta = jnp.reshape(eta, (-1, 1))\n",
    "    w1 = eta\n",
    "    w2 = xi - eta\n",
    "    w1 = w1*(2**(-s/2))\n",
    "    w2 = w2*(2**(-s/2))\n",
    "    return w1, w2"
   ]
  },
  {
   "cell_type": "code",
   "execution_count": 4,
   "metadata": {
    "id": "00e3cQzOSjZ-"
   },
   "outputs": [],
   "source": [
    "class BPX(nn.Module):\n",
    "    def apply(self, x, K):\n",
    "        y = jnp.zeros(x.shape)\n",
    "        for k in range(K+1):\n",
    "            scale = self.param('scale_{0:d}'.format(k), (1, ), nn.initializers.ones)\n",
    "            y = y + 0.5*(scale + abs(scale))*Projector_direct(x, k, K)\n",
    "        return y\n",
    "\n",
    "\n",
    "def init_BPX(K, model):\n",
    "    params = {}\n",
    "    for k in range(K+1):\n",
    "        name = 'Projector_direct_{0:d}'.format(k)\n",
    "        scale_name = 'scale_{0:d}'.format(k)\n",
    "        w1, w2 = get_init_params(k, K)\n",
    "        loc_params = {'w1': w1, 'w2': w2}\n",
    "        params[name] = loc_params\n",
    "        params[scale_name] = jnp.reshape(2**(-k), (1, ))*0.05\n",
    "        #params[scale_name] = jnp.reshape(2**(-k), (1, ))*1e-2\n",
    "\n",
    "    return model.replace(params=params)"
   ]
  },
  {
   "cell_type": "code",
   "execution_count": 5,
   "metadata": {
    "id": "bMq93TH-SjaA"
   },
   "outputs": [],
   "source": [
    "def loss(dpx_model, mat, x):\n",
    "    sz = x.shape\n",
    "    y = x\n",
    "    dpx_model_batch = jax.vmap(dpx_model, 1, 1) \n",
    "    z = y\n",
    "    for i in range(3):\n",
    "        z = y.reshape(y.shape) \n",
    "        By = dpx_model_batch(z) \n",
    "        By = jnp.reshape(By, y.shape)\n",
    "        By = mat@By \n",
    "        By = dpx_model_batch(By) \n",
    "        \n",
    "        y = y - By \n",
    "    return jnp.mean(jnp.einsum('ib, ib->b', y, y))"
   ]
  },
  {
   "cell_type": "code",
   "execution_count": 6,
   "metadata": {
    "colab": {
     "base_uri": "https://localhost:8080/",
     "height": 34
    },
    "id": "kViKaW0QSjaE",
    "outputId": "d22966b5-4762-4892-b6b5-c581593ef6a2"
   },
   "outputs": [
    {
     "name": "stderr",
     "output_type": "stream",
     "text": [
      "/Users/Anna.Rudenko/opt/anaconda3/envs/myenv/lib/python3.8/site-packages/jax/lib/xla_bridge.py:122: UserWarning: No GPU/TPU found, falling back to CPU.\n",
      "  warnings.warn('No GPU/TPU found, falling back to CPU.')\n"
     ]
    }
   ],
   "source": [
    "rng = jax.random.PRNGKey(2010)\n",
    "rng, key = jax.random.split(rng)\n",
    "\n",
    "K = 5\n",
    "B_cur = BPX.partial(K=K)\n",
    "n = 2**K\n",
    "x0 = jnp.ones(n)\n",
    "_, init_params = B_cur.init(key, x0)\n",
    "init_model = nn.Model(B_cur, init_params)\n",
    "true_BPX_2 = init_BPX(K, init_model)\n",
    "\n",
    "z = jnp.diag(jnp.ones(n-1), -1)\n",
    "e = jnp.eye(n)\n",
    "lp = 2*e - z - z.T\n",
    "lp = lp*(n+1)**2\n",
    "\n"
   ]
  },
  {
   "cell_type": "code",
   "execution_count": 7,
   "metadata": {
    "id": "11XqQMIrSjab"
   },
   "outputs": [
    {
     "name": "stdout",
     "output_type": "stream",
     "text": [
      "(32, 32)\n"
     ]
    }
   ],
   "source": [
    "rng = jax.random.PRNGKey(2010)\n",
    "rng, key = jax.random.split(rng)\n",
    "\n",
    "K = 5\n",
    "B_cur = BPX.partial(K=K)\n",
    "n = 2**K\n",
    "x0 = jnp.ones(n)\n",
    "_, init_params = B_cur.init(key, x0)\n",
    "init_model = nn.Model(B_cur, init_params)\n",
    "true_BPX = init_BPX(K, init_model)\n",
    "\n",
    "eye_mat = jnp.eye(n)\n",
    "\n",
    "\n",
    "z = eye_mat.reshape((n, n))\n",
    "batch_model = jax.vmap(true_BPX) #We want to have ||(I - tau*A*B)||->min\n",
    "prec = batch_model(z)\n",
    "print(prec.shape)"
   ]
  },
  {
   "cell_type": "code",
   "execution_count": 8,
   "metadata": {
    "id": "trflNtlESjaH"
   },
   "outputs": [],
   "source": [
    "xr =  jax.random.uniform(key, x0.shape)\n"
   ]
  },
  {
   "cell_type": "code",
   "execution_count": 9,
   "metadata": {
    "id": "SaGJdZtzSjaJ"
   },
   "outputs": [],
   "source": [
    "f = jnp.ones_like(xr)*6"
   ]
  },
  {
   "cell_type": "markdown",
   "metadata": {
    "id": "n11n05saSjaM"
   },
   "source": [
    "direct solution"
   ]
  },
  {
   "cell_type": "code",
   "execution_count": 11,
   "metadata": {
    "id": "loPIPVDCSjaM"
   },
   "outputs": [],
   "source": [
    "gt = jnp.linalg.solve(lp, f)"
   ]
  },
  {
   "cell_type": "markdown",
   "metadata": {
    "id": "WUvQTakgSjaP"
   },
   "source": [
    "Optimal parameter\n",
    "\n",
    "\n",
    "$\n",
    "\\tau = \\frac{2}{\\lambda_{max} + \\lambda_{min}}\n",
    "$\n"
   ]
  },
  {
   "cell_type": "code",
   "execution_count": 12,
   "metadata": {
    "id": "cZbhOWWrSjaP"
   },
   "outputs": [],
   "source": [
    "w = jnp.linalg.eigvalsh(lp)"
   ]
  },
  {
   "cell_type": "code",
   "execution_count": 13,
   "metadata": {
    "colab": {
     "base_uri": "https://localhost:8080/",
     "height": 34
    },
    "id": "DndAkYpTSjaR",
    "outputId": "00670fce-e147-43cb-a2f5-488e7f740d09"
   },
   "outputs": [
    {
     "data": {
      "text/plain": [
       "0.0004591368227731864"
      ]
     },
     "execution_count": 13,
     "metadata": {},
     "output_type": "execute_result"
    }
   ],
   "source": [
    "2/(max(w) + min(w))"
   ]
  },
  {
   "cell_type": "code",
   "execution_count": 14,
   "metadata": {
    "id": "79Ve5EzWWSQw"
   },
   "outputs": [],
   "source": [
    "eps = 1e-3\n",
    "num_iter = 1e2"
   ]
  },
  {
   "cell_type": "code",
   "execution_count": 15,
   "metadata": {
    "id": "reE0x7VNSjaU"
   },
   "outputs": [],
   "source": [
    "def richardson(F, x0, f, num_iter, tau =0.0004 , eps = 1e-3, P=None, PFP =False):\n",
    "    conv = [x0]\n",
    "    xk = x0\n",
    "    for i in range(num_iter):\n",
    "        if P == None:\n",
    "            xk = xk - tau* (F @ xk - f)\n",
    "            disp = jnp.linalg.norm( F @ xk - f)\n",
    "        else:\n",
    "            if PFP == False:\n",
    "                xk = xk - tau * prec @ (F @ xk - f)\n",
    "                disp = jnp.linalg.norm(F @ xk - f)             \n",
    "            elif PFP == True:\n",
    "                xk = xk - tau * (( prec @ (F @ (prec @ xk))) - (prec @ f))\n",
    "                disp = jnp.linalg.norm((prec @ ( F @ (prec @ xk))) - (prec @ f))\n",
    "\n",
    "\n",
    "        conv.append(xk)\n",
    "    \n",
    "        if disp <= eps:\n",
    "            break\n",
    "    return i, xk, disp, conv"
   ]
  },
  {
   "cell_type": "code",
   "execution_count": 16,
   "metadata": {
    "id": "m6GTjh_AboV2"
   },
   "outputs": [],
   "source": [
    "i, ans, disp, conv = richardson(lp, xr, f, int(num_iter), eps=eps)"
   ]
  },
  {
   "cell_type": "code",
   "execution_count": 17,
   "metadata": {},
   "outputs": [],
   "source": [
    "i_up, ans_up, disp_up, conv_up = richardson(lp, xr, f, int(num_iter),tau =.159 , eps=eps, P=prec,PFP= False)"
   ]
  },
  {
   "cell_type": "code",
   "execution_count": 18,
   "metadata": {},
   "outputs": [],
   "source": [
    "i_up1, ans_up1, disp_up1, conv_up1 = richardson(lp, xr, f, int(num_iter),tau =7 , eps=eps, P=prec,PFP= True)"
   ]
  },
  {
   "cell_type": "code",
   "execution_count": 19,
   "metadata": {
    "colab": {
     "base_uri": "https://localhost:8080/",
     "height": 282
    },
    "id": "ITSTvqLJcrjT",
    "outputId": "ff2e5ffe-1572-4837-8351-3b2aba545bd1"
   },
   "outputs": [
    {
     "data": {
      "text/plain": [
       "<matplotlib.legend.Legend at 0x11f7a5a60>"
      ]
     },
     "execution_count": 19,
     "metadata": {},
     "output_type": "execute_result"
    },
    {
     "data": {
      "image/png": "[encoded data removed]",
      "text/plain": [
       "<Figure size 432x288 with 1 Axes>"
      ]
     },
     "metadata": {
      "needs_background": "light"
     },
     "output_type": "display_data"
    }
   ],
   "source": [
    "plt.semilogy([jnp.linalg.norm(lp @ x - f) / jnp.linalg.norm(f) for x in conv], label=\"Rich\")\n",
    "plt.semilogy([jnp.linalg.norm(lp @ x - f) / jnp.linalg.norm(f) for x in conv_up], label=\"Prec\")\n",
    "plt.semilogy([jnp.linalg.norm(prec @ (lp @ (prec @ x)) - prec @ f) for x in conv_up1], label=\"Prec PFP\")\n",
    "plt.legend()"
   ]
  },
  {
   "cell_type": "code",
   "execution_count": 20,
   "metadata": {
    "colab": {
     "base_uri": "https://localhost:8080/",
     "height": 282
    },
    "id": "IPo-1WgRSjax",
    "outputId": "2ba459fc-6981-49b1-9f45-e05ca4236a82"
   },
   "outputs": [
    {
     "data": {
      "text/plain": [
       "<matplotlib.legend.Legend at 0x1219c6eb0>"
      ]
     },
     "execution_count": 20,
     "metadata": {},
     "output_type": "execute_result"
    },
    {
     "data": {
      "image/png": "[encoded data removed]",
      "text/plain": [
       "<Figure size 432x288 with 1 Axes>"
      ]
     },
     "metadata": {
      "needs_background": "light"
     },
     "output_type": "display_data"
    }
   ],
   "source": [
    "import matplotlib.pyplot as plt\n",
    "plt.plot(gt, label = 'ground truth')\n",
    "plt.plot(ans, label= 'without prec')\n",
    "plt.plot(ans_up, label= 'with prec PFx =f')\n",
    "plt.plot(prec@ans_up1, label ='with prec PFPx =Pf')\n",
    "plt.legend()"
   ]
  },
  {
   "cell_type": "code",
   "execution_count": 21,
   "metadata": {
    "id": "ZG9szxLHSja0"
   },
   "outputs": [],
   "source": [
    "r = open('bytesK5_3_.txt', 'rb')"
   ]
  },
  {
   "cell_type": "code",
   "execution_count": 22,
   "metadata": {
    "id": "YNWCbbkaSja2",
    "outputId": "8c5f4546-ae39-4dfc-c659-8b7b84452d26"
   },
   "outputs": [
    {
     "name": "stdout",
     "output_type": "stream",
     "text": [
      "(32, 32)\n"
     ]
    }
   ],
   "source": [
    "l = r.readlines()\n",
    "ll = b''.join(l)\n",
    "params = flax.serialization.msgpack_restore(ll)\n",
    "true_BPX_3 = true_BPX_2.replace(params=params)\n",
    "n = 2**K\n",
    "\n",
    "eye_mat = jnp.eye(n)\n",
    "\n",
    "z = eye_mat.reshape((n, n))\n",
    "batch_model = jax.vmap(true_BPX_3) #We want tob have ||(I - tau*A*B)||->min\n",
    "prec2 = batch_model(z)\n",
    "print(prec2.shape)"
   ]
  },
  {
   "cell_type": "code",
   "execution_count": 23,
   "metadata": {},
   "outputs": [],
   "source": [
    "i, ans, disp, conv = richardson(lp, xr, f, int(num_iter), eps=eps)"
   ]
  },
  {
   "cell_type": "code",
   "execution_count": 24,
   "metadata": {},
   "outputs": [],
   "source": [
    "i_p, ans_p, disp_p, conv_p = richardson(lp, xr, f, int(num_iter),tau =.026 , eps=eps, P=prec2,PFP= False)"
   ]
  },
  {
   "cell_type": "code",
   "execution_count": 25,
   "metadata": {},
   "outputs": [],
   "source": [
    "i_p1, ans_p1, disp_p1, conv_p1 = richardson(lp, xr, f, int(num_iter),tau =.767 , eps=eps, P=prec2,PFP= True)"
   ]
  },
  {
   "cell_type": "code",
   "execution_count": 26,
   "metadata": {},
   "outputs": [
    {
     "data": {
      "text/plain": [
       "<matplotlib.legend.Legend at 0x121b17dc0>"
      ]
     },
     "execution_count": 26,
     "metadata": {},
     "output_type": "execute_result"
    },
    {
     "data": {
      "image/png": "[encoded data removed]",
      "text/plain": [
       "<Figure size 432x288 with 1 Axes>"
      ]
     },
     "metadata": {
      "needs_background": "light"
     },
     "output_type": "display_data"
    }
   ],
   "source": [
    "plt.semilogy([jnp.linalg.norm(lp @ x - f) / jnp.linalg.norm(f) for x in conv], label=\"Rich\")\n",
    "plt.semilogy([jnp.linalg.norm(lp @ x - f) / jnp.linalg.norm(f) for x in conv_p], label=\"Prec\")\n",
    "plt.semilogy([jnp.linalg.norm(prec @ (lp @ (prec @ x)) - prec @ f) for x in conv_p1], label=\"Prec PFP\")\n",
    "plt.legend()"
   ]
  },
  {
   "cell_type": "code",
   "execution_count": 27,
   "metadata": {},
   "outputs": [
    {
     "data": {
      "text/plain": [
       "<matplotlib.legend.Legend at 0x121d2af70>"
      ]
     },
     "execution_count": 27,
     "metadata": {},
     "output_type": "execute_result"
    },
    {
     "data": {
      "image/png": "[encoded data removed]",
      "text/plain": [
       "<Figure size 432x288 with 1 Axes>"
      ]
     },
     "metadata": {
      "needs_background": "light"
     },
     "output_type": "display_data"
    }
   ],
   "source": [
    "import matplotlib.pyplot as plt\n",
    "plt.plot(gt, label = 'ground truth')\n",
    "plt.plot(ans, label= 'without prec')\n",
    "plt.plot(ans_p, label= 'with prec PFx =f')\n",
    "plt.plot(prec@ans_p1, label ='with prec PFPx =Pf')\n",
    "plt.legend()"
   ]
  },
  {
   "cell_type": "code",
   "execution_count": 57,
   "metadata": {
    "id": "rJgOT_pjSjbF",
    "outputId": "1145edd6-81c2-4662-f244-612cb7f7c3a5"
   },
   "outputs": [
    {
     "data": {
      "text/plain": [
       "(0.767494972942914+0j)"
      ]
     },
     "execution_count": 57,
     "metadata": {},
     "output_type": "execute_result"
    }
   ],
   "source": [
    "w2, _ = jnp.linalg.eig(prec2@lp@prec2)\n",
    "2/(max(w2)+min(w2))"
   ]
  },
  {
   "cell_type": "code",
   "execution_count": null,
   "metadata": {
    "id": "LtVOUdSxSjbP"
   },
   "outputs": [],
   "source": []
  }
 ],
 "metadata": {
  "colab": {
   "name": "n_eq_32 (1).ipynb",
   "provenance": []
  },
  "kernelspec": {
   "display_name": "Python 3",
   "language": "python",
   "name": "python3"
  },
  "language_info": {
   "codemirror_mode": {
    "name": "ipython",
    "version": 3
   },
   "file_extension": ".py",
   "mimetype": "text/x-python",
   "name": "python",
   "nbconvert_exporter": "python",
   "pygments_lexer": "ipython3",
   "version": "3.8.2"
  }
 },
 "nbformat": 4,
 "nbformat_minor": 1
}
