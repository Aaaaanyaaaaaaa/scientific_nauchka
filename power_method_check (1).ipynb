{
  "nbformat": 4,
  "nbformat_minor": 0,
  "metadata": {
    "kernelspec": {
      "display_name": "Python 3",
      "language": "python",
      "name": "python3"
    },
    "language_info": {
      "codemirror_mode": {
        "name": "ipython",
        "version": 3
      },
      "file_extension": ".py",
      "mimetype": "text/x-python",
      "name": "python",
      "nbconvert_exporter": "python",
      "pygments_lexer": "ipython3",
      "version": "3.8.2"
    },
    "colab": {
      "name": "power_method_check.ipynb",
      "provenance": []
    }
  },
  "cells": [
    {
      "cell_type": "code",
      "metadata": {
        "id": "APVGG0lZzoj2",
        "outputId": "6f540f11-2e16-4577-df7a-63bbc6cf2951",
        "colab": {
          "base_uri": "https://localhost:8080/",
          "height": 306
        }
      },
      "source": [
        "!pip install flax"
      ],
      "execution_count": 1,
      "outputs": [
        {
          "output_type": "stream",
          "text": [
            "Collecting flax\n",
            "\u001b[?25l  Downloading https://files.pythonhosted.org/packages/2e/ef/1a0c6a869396e4b20a83375fe06d725b5c1711746578ee8dd6969472af41/flax-0.2.2-py3-none-any.whl (148kB)\n",
            "\r\u001b[K     |██▏                             | 10kB 12.5MB/s eta 0:00:01\r\u001b[K     |████▍                           | 20kB 3.2MB/s eta 0:00:01\r\u001b[K     |██████▋                         | 30kB 4.4MB/s eta 0:00:01\r\u001b[K     |████████▉                       | 40kB 4.7MB/s eta 0:00:01\r\u001b[K     |███████████                     | 51kB 3.3MB/s eta 0:00:01\r\u001b[K     |█████████████▎                  | 61kB 3.8MB/s eta 0:00:01\r\u001b[K     |███████████████▍                | 71kB 4.4MB/s eta 0:00:01\r\u001b[K     |█████████████████▋              | 81kB 4.6MB/s eta 0:00:01\r\u001b[K     |███████████████████▉            | 92kB 5.0MB/s eta 0:00:01\r\u001b[K     |██████████████████████          | 102kB 4.8MB/s eta 0:00:01\r\u001b[K     |████████████████████████▎       | 112kB 4.8MB/s eta 0:00:01\r\u001b[K     |██████████████████████████▌     | 122kB 4.8MB/s eta 0:00:01\r\u001b[K     |████████████████████████████▊   | 133kB 4.8MB/s eta 0:00:01\r\u001b[K     |██████████████████████████████▉ | 143kB 4.8MB/s eta 0:00:01\r\u001b[K     |████████████████████████████████| 153kB 4.8MB/s \n",
            "\u001b[?25hRequirement already satisfied: numpy>=1.12 in /usr/local/lib/python3.6/dist-packages (from flax) (1.18.5)\n",
            "Requirement already satisfied: jax>=0.1.59 in /usr/local/lib/python3.6/dist-packages (from flax) (0.2.0)\n",
            "Requirement already satisfied: msgpack in /usr/local/lib/python3.6/dist-packages (from flax) (1.0.0)\n",
            "Requirement already satisfied: matplotlib in /usr/local/lib/python3.6/dist-packages (from flax) (3.2.2)\n",
            "Requirement already satisfied: dataclasses; python_version < \"3.7\" in /usr/local/lib/python3.6/dist-packages (from flax) (0.7)\n",
            "Requirement already satisfied: opt-einsum in /usr/local/lib/python3.6/dist-packages (from jax>=0.1.59->flax) (3.3.0)\n",
            "Requirement already satisfied: absl-py in /usr/local/lib/python3.6/dist-packages (from jax>=0.1.59->flax) (0.10.0)\n",
            "Requirement already satisfied: cycler>=0.10 in /usr/local/lib/python3.6/dist-packages (from matplotlib->flax) (0.10.0)\n",
            "Requirement already satisfied: pyparsing!=2.0.4,!=2.1.2,!=2.1.6,>=2.0.1 in /usr/local/lib/python3.6/dist-packages (from matplotlib->flax) (2.4.7)\n",
            "Requirement already satisfied: python-dateutil>=2.1 in /usr/local/lib/python3.6/dist-packages (from matplotlib->flax) (2.8.1)\n",
            "Requirement already satisfied: kiwisolver>=1.0.1 in /usr/local/lib/python3.6/dist-packages (from matplotlib->flax) (1.2.0)\n",
            "Requirement already satisfied: six in /usr/local/lib/python3.6/dist-packages (from absl-py->jax>=0.1.59->flax) (1.15.0)\n",
            "Installing collected packages: flax\n",
            "Successfully installed flax-0.2.2\n"
          ],
          "name": "stdout"
        }
      ]
    },
    {
      "cell_type": "code",
      "metadata": {
        "id": "0h-aBQ2Czi0f"
      },
      "source": [
        "import numpy as np\n",
        "import jax\n",
        "import jax.numpy as jnp\n",
        "import matplotlib.pyplot as plt\n",
        "import flax \n",
        "import flax.nn as nn"
      ],
      "execution_count": 2,
      "outputs": []
    },
    {
      "cell_type": "code",
      "metadata": {
        "id": "tYq4DaSBzi0m"
      },
      "source": [
        "def P_local_matvec(k, K, w1, w2, x):\n",
        "    x1 = x.reshape((2**k, -1))\n",
        "    tmp = jnp.zeros(x1.shape)\n",
        "    tmp = jax.ops.index_update(tmp, jax.ops.index[:-1, :], x1[1:, :])\n",
        "    res = (x1@w1) + (tmp@w2)\n",
        "    return res.flatten()\n",
        "\n",
        "\n",
        "def P_local_matvec_t(k, K, w1, w2, x):\n",
        "    x1 = x.reshape((2**k, -1))     #Can we make a 2D version\n",
        "    tmp = jnp.zeros(x1.shape)\n",
        "    tmp = jax.ops.index_update(tmp, jax.ops.index[1:, :], x1[:-1, :])\n",
        "    res = x1@w1.T + (tmp@w2.T)\n",
        "\n",
        "    return res.flatten()\n",
        "\n",
        "\n",
        "class Projector_direct(nn.Module):\n",
        "    def apply(self, x, k, K):\n",
        "        s = (K-k)\n",
        "        sp = (2**s, 1)\n",
        "        w1 = self.param('w1', sp, nn.initializers.lecun_normal())\n",
        "        w2 = self.param('w2', sp, nn.initializers.lecun_normal())\n",
        "        x1 = x.reshape((2**k, -1))\n",
        "        y = P_local_matvec(k, K, w1, w2, x1)\n",
        "        z = P_local_matvec_t(k, K, w1, w2, y)\n",
        "        z = z.reshape(x.shape)\n",
        "        return z\n"
      ],
      "execution_count": 3,
      "outputs": []
    },
    {
      "cell_type": "code",
      "metadata": {
        "id": "p9JJytkczi0q"
      },
      "source": [
        "def get_init_params(k, K):\n",
        "    s = (K-k)\n",
        "    xi = jnp.ones(2**s)\n",
        "    eta = (jnp.arange(2**s) + 1)*1.0*(2**(-s))\n",
        "    xi = jnp.reshape(xi, (-1, 1))\n",
        "    eta = jnp.reshape(eta, (-1, 1))\n",
        "    w1 = eta\n",
        "    w2 = xi - eta\n",
        "    w1 = w1*(2**(-s/2))\n",
        "    w2 = w2*(2**(-s/2))\n",
        "    return w1, w2"
      ],
      "execution_count": 4,
      "outputs": []
    },
    {
      "cell_type": "code",
      "metadata": {
        "id": "v3FSdS2Pzi0x"
      },
      "source": [
        "class BPX(nn.Module):\n",
        "    def apply(self, x, K):\n",
        "        y = jnp.zeros(x.shape)\n",
        "        for k in range(K+1):\n",
        "            scale = self.param('scale_{0:d}'.format(k), (1, ), nn.initializers.ones)\n",
        "            y = y + 0.5*(scale + abs(scale))*Projector_direct(x, k, K)\n",
        "        return y\n",
        "\n",
        "\n",
        "def init_BPX(K, model):\n",
        "    params = {}\n",
        "    for k in range(K+1):\n",
        "        name = 'Projector_direct_{0:d}'.format(k)\n",
        "        scale_name = 'scale_{0:d}'.format(k)\n",
        "        w1, w2 = get_init_params(k, K)\n",
        "        loc_params = {'w1': w1, 'w2': w2}\n",
        "        params[name] = loc_params\n",
        "        params[scale_name] = jnp.reshape(2**(-k), (1, ))*0.05\n",
        "        #params[scale_name] = jnp.reshape(2**(-k), (1, ))*1e-2\n",
        "\n",
        "    return model.replace(params=params)"
      ],
      "execution_count": 5,
      "outputs": []
    },
    {
      "cell_type": "code",
      "metadata": {
        "id": "-G7xMrkjzi02"
      },
      "source": [
        "def loss(dpx_model, mat, x):\n",
        "    sz = x.shape\n",
        "    y = x\n",
        "    dpx_model_batch = jax.vmap(dpx_model, 1, 1) \n",
        "    z = y\n",
        "    for i in range(3):\n",
        "        z = y.reshape(y.shape) \n",
        "        By = dpx_model_batch(z) \n",
        "        By = jnp.reshape(By, y.shape)\n",
        "        By = mat@By \n",
        "        By = dpx_model_batch(By) \n",
        "        \n",
        "        y = y - By \n",
        "    return jnp.mean(jnp.einsum('ib, ib->b', y, y))"
      ],
      "execution_count": 6,
      "outputs": []
    },
    {
      "cell_type": "code",
      "metadata": {
        "id": "kUYcG_v4zi05"
      },
      "source": [
        "def power_method_update(dpx_model, mat, x):\n",
        "    # dpx_model_batch = jax.vmap(dpx_model, 1, 1) \n",
        "    y = x\n",
        "    # z = y\n",
        "    # BY_0 = dpx_model_batch(z)\n",
        "    # BY_0 = jnp.reshape(BY_0, y.shape)\n",
        "    # BY_0 = mat@BY_0\n",
        "    # BY_0 = dpx_model_batch(BY_0)\n",
        "    # BY_0 = z - BY_0\n",
        "    # # print('A shape ', jnp.expand_dims(BY_0[:, 0], axis=1).shape)\n",
        "    # BY_0_v = jnp.expand_dims(BY_0[:, 0], axis=1)\n",
        "    dpx_model_batch_2 = jax.vmap(dpx_model, 1, 1) \n",
        "    \n",
        "    for i in range(10):\n",
        "        d = y.reshape(y.shape) \n",
        "        # print('d shape', d.shape)\n",
        "        By = dpx_model_batch_2(d) \n",
        "        By = jnp.reshape(By, y.shape)\n",
        "        By = mat@By \n",
        "        By = dpx_model_batch_2(By) \n",
        "        y = y - By \n",
        "        # print(y == d)\n",
        "    # print('y shape', jnp.expand_dims(y[:, 0], axis=1).shape)\n",
        "    y_v = jnp.expand_dims(y[:, 0], axis=1)\n",
        "    d_v = jnp.expand_dims(d[:, 0], axis=1)\n",
        "    eigen_v = (y_v.T @ d_v) /(d_v.T @ d_v) \n",
        "    # eigen_v = (BY_0.T @ y) /(y.T @ y) \n",
        "    return eigen_v[0][0]"
      ],
      "execution_count": 15,
      "outputs": []
    },
    {
      "cell_type": "code",
      "metadata": {
        "id": "V45Jp9axzi09"
      },
      "source": [
        "rng = jax.random.PRNGKey(2010)\n",
        "rng, key = jax.random.split(rng)\n",
        "\n",
        "K = 8\n",
        "B_cur = BPX.partial(K=K)\n",
        "n = 2**K\n",
        "x0 = jnp.ones(n)\n",
        "_, init_params = B_cur.init(key, x0)\n",
        "init_model = nn.Model(B_cur, init_params)\n",
        "true_BPX = init_BPX(K, init_model)\n",
        "\n",
        "# K = 5\n",
        "# n = 2**K \n",
        "z = jnp.diag(jnp.ones(n-1), -1)\n",
        "e = jnp.eye(n)\n",
        "lp = 2*e - z - z.T\n",
        "lp = lp*(n+1)**2\n",
        "\n",
        "c = 1e2 # convection coefficient\n",
        "\n",
        "mat = lp\n",
        "model = true_BPX"
      ],
      "execution_count": 16,
      "outputs": []
    },
    {
      "cell_type": "code",
      "metadata": {
        "id": "prvYumO_zi1E",
        "outputId": "da8a0334-c6f4-4437-82cf-e36da3d1a563",
        "colab": {
          "base_uri": "https://localhost:8080/",
          "height": 34
        }
      },
      "source": [
        "n = 2**K\n",
        "batch_size = 512\n",
        "x_batch = jax.random.normal(key, (n, batch_size))\n",
        "x_batch = x_batch/jnp.linalg.norm(x_batch, axis=0)[None, :]\n",
        "\n",
        "mat = e + 1e-2*lp\n",
        "\n",
        "loss(model, mat, x_batch)"
      ],
      "execution_count": 17,
      "outputs": [
        {
          "output_type": "execute_result",
          "data": {
            "text/plain": [
              "DeviceArray(0.99867415, dtype=float32)"
            ]
          },
          "metadata": {
            "tags": []
          },
          "execution_count": 17
        }
      ]
    },
    {
      "cell_type": "code",
      "metadata": {
        "id": "tS640kcRzi1I",
        "outputId": "8aa921dc-4ef2-4160-e48d-f0bf8b715822",
        "colab": {
          "base_uri": "https://localhost:8080/",
          "height": 34
        }
      },
      "source": [
        "power_method_update(model, mat, x_batch)"
      ],
      "execution_count": 18,
      "outputs": [
        {
          "output_type": "execute_result",
          "data": {
            "text/plain": [
              "DeviceArray(0.9998306, dtype=float32)"
            ]
          },
          "metadata": {
            "tags": []
          },
          "execution_count": 18
        }
      ]
    },
    {
      "cell_type": "code",
      "metadata": {
        "id": "mf-Jispgzi1M"
      },
      "source": [
        "@jax.jit\n",
        "def update(opt, x):\n",
        "    eig = jnp.mean(jnp.mean(power_method_update(opt.target, mat, x)))\n",
        "    l1, grad1 = jax.value_and_grad(loss)(opt.target, mat, x)\n",
        "    return  eig, l1, opt.apply_gradient(grad1)"
      ],
      "execution_count": 19,
      "outputs": []
    },
    {
      "cell_type": "code",
      "metadata": {
        "id": "8qnnWlhNzi1Q",
        "outputId": "26025d39-92ab-4063-8695-131bc742d490",
        "colab": {
          "base_uri": "https://localhost:8080/",
          "height": 34
        }
      },
      "source": [
        "n"
      ],
      "execution_count": 20,
      "outputs": [
        {
          "output_type": "execute_result",
          "data": {
            "text/plain": [
              "256"
            ]
          },
          "metadata": {
            "tags": []
          },
          "execution_count": 20
        }
      ]
    },
    {
      "cell_type": "code",
      "metadata": {
        "id": "eU2_zL6Yzi1U"
      },
      "source": [
        "opt = flax.optim.Adam(1e-5).create(model)"
      ],
      "execution_count": 21,
      "outputs": []
    },
    {
      "cell_type": "code",
      "metadata": {
        "id": "ipEsZJ7Nzi1X"
      },
      "source": [
        "import matplotlib.pyplot as plt\n",
        "loss_array = []\n",
        "eigen_array = []"
      ],
      "execution_count": 22,
      "outputs": []
    },
    {
      "cell_type": "code",
      "metadata": {
        "id": "ssCz3Vuvzi1a"
      },
      "source": [
        "from IPython import display\n",
        "import numpy as np\n",
        "import matplotlib.pyplot as plt\n",
        "\n",
        "\n",
        "def plot(loss_history, eig_history, iter_number, clear_output=True):\n",
        "    if clear_output:\n",
        "        display.clear_output(wait=True)\n",
        "    \n",
        "    fig, ax = plt.subplots(1, 1, figsize=(12, 8))\n",
        "    ax.plot(loss_history, label = 'loss_history')\n",
        "    ax.plot(eig_history, label = 'eig_history')\n",
        "    ax.set_title('loss and eig decay')\n",
        "    ax.set_xlabel('# iteration processed')\n",
        "    # ax.set_ylabel('loss value')\n",
        "    ax.legend()\n",
        "\n",
        "    plt.show()  \n",
        "\n"
      ],
      "execution_count": 23,
      "outputs": []
    },
    {
      "cell_type": "code",
      "metadata": {
        "id": "rWmyQ5lWzi1f",
        "outputId": "e04c77a3-3a5b-40b3-e456-97e356277cfe",
        "colab": {
          "base_uri": "https://localhost:8080/",
          "height": 530
        }
      },
      "source": [
        "from tqdm import tqdm\n",
        "\n",
        "for i in tqdm(range(1000)):\n",
        "    eig_val, loss_val, opt = update(opt, x_batch)\n",
        "    loss_array.append(loss_val)\n",
        "    eigen_array.append(eig_val)\n",
        "    plot(loss_array, eigen_array, i)\n",
        "   "
      ],
      "execution_count": 24,
      "outputs": [
        {
          "output_type": "display_data",
          "data": {
            "image/png": "[encoded data removed]",
            "text/plain": [
              "<Figure size 864x576 with 1 Axes>"
            ]
          },
          "metadata": {
            "tags": [],
            "needs_background": "light"
          }
        },
        {
          "output_type": "stream",
          "text": [
            "100%|██████████| 1000/1000 [17:02<00:00,  1.02s/it]\n"
          ],
          "name": "stderr"
        }
      ]
    },
    {
      "cell_type": "code",
      "metadata": {
        "id": "rQvvpAUOzi1i"
      },
      "source": [
        ""
      ],
      "execution_count": null,
      "outputs": []
    },
    {
      "cell_type": "code",
      "metadata": {
        "id": "zabOoTmRzi1m"
      },
      "source": [
        "n = 2**K\n",
        "batch_size = 1\n",
        "x_batch = jax.random.normal(key, (n, batch_size))"
      ],
      "execution_count": null,
      "outputs": []
    }
  ]
}