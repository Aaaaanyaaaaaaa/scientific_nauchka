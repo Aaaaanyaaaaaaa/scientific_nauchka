{
  "nbformat": 4,
  "nbformat_minor": 0,
  "metadata": {
    "kernelspec": {
      "display_name": "Python 3",
      "language": "python",
      "name": "python3"
    },
    "language_info": {
      "codemirror_mode": {
        "name": "ipython",
        "version": 3
      },
      "file_extension": ".py",
      "mimetype": "text/x-python",
      "name": "python",
      "nbconvert_exporter": "python",
      "pygments_lexer": "ipython3",
      "version": "3.8.2"
    },
    "colab": {
      "name": "comparison_of_trained_and_untrained_preconditioners_for_n_==512.ipynb",
      "provenance": [],
      "collapsed_sections": []
    },
    "accelerator": "GPU"
  },
  "cells": [
    {
      "cell_type": "code",
      "metadata": {
        "id": "EBdBmB-aPo0k",
        "outputId": "d99ed0b8-37a2-48f9-956d-b010d845fa96",
        "colab": {
          "base_uri": "https://localhost:8080/"
        }
      },
      "source": [
        "2**9"
      ],
      "execution_count": 25,
      "outputs": [
        {
          "output_type": "execute_result",
          "data": {
            "text/plain": [
              "512"
            ]
          },
          "metadata": {
            "tags": []
          },
          "execution_count": 25
        }
      ]
    },
    {
      "cell_type": "code",
      "metadata": {
        "id": "86Bjff5mPvN-",
        "outputId": "921b9d7d-33d8-4fc2-d8b3-e4b6fb3d96c0",
        "colab": {
          "base_uri": "https://localhost:8080/"
        }
      },
      "source": [
        "!pip install flax"
      ],
      "execution_count": 26,
      "outputs": [
        {
          "output_type": "stream",
          "text": [
            "Requirement already satisfied: flax in /usr/local/lib/python3.6/dist-packages (0.2.2)\n",
            "Requirement already satisfied: numpy>=1.12 in /usr/local/lib/python3.6/dist-packages (from flax) (1.18.5)\n",
            "Requirement already satisfied: dataclasses; python_version < \"3.7\" in /usr/local/lib/python3.6/dist-packages (from flax) (0.7)\n",
            "Requirement already satisfied: msgpack in /usr/local/lib/python3.6/dist-packages (from flax) (1.0.0)\n",
            "Requirement already satisfied: jax>=0.1.59 in /usr/local/lib/python3.6/dist-packages (from flax) (0.2.4)\n",
            "Requirement already satisfied: matplotlib in /usr/local/lib/python3.6/dist-packages (from flax) (3.2.2)\n",
            "Requirement already satisfied: absl-py in /usr/local/lib/python3.6/dist-packages (from jax>=0.1.59->flax) (0.10.0)\n",
            "Requirement already satisfied: opt-einsum in /usr/local/lib/python3.6/dist-packages (from jax>=0.1.59->flax) (3.3.0)\n",
            "Requirement already satisfied: python-dateutil>=2.1 in /usr/local/lib/python3.6/dist-packages (from matplotlib->flax) (2.8.1)\n",
            "Requirement already satisfied: pyparsing!=2.0.4,!=2.1.2,!=2.1.6,>=2.0.1 in /usr/local/lib/python3.6/dist-packages (from matplotlib->flax) (2.4.7)\n",
            "Requirement already satisfied: kiwisolver>=1.0.1 in /usr/local/lib/python3.6/dist-packages (from matplotlib->flax) (1.3.1)\n",
            "Requirement already satisfied: cycler>=0.10 in /usr/local/lib/python3.6/dist-packages (from matplotlib->flax) (0.10.0)\n",
            "Requirement already satisfied: six in /usr/local/lib/python3.6/dist-packages (from absl-py->jax>=0.1.59->flax) (1.15.0)\n"
          ],
          "name": "stdout"
        }
      ]
    },
    {
      "cell_type": "code",
      "metadata": {
        "id": "dzPta3apT6Nx",
        "outputId": "3663b976-9079-4ee7-c29c-df140bbfe332",
        "colab": {
          "base_uri": "https://localhost:8080/"
        }
      },
      "source": [
        "try:\n",
        "    import google.colab\n",
        "    IN_COLAB = True\n",
        "except ImportError:\n",
        "    IN_COLAB = False\n",
        "\n",
        "from pathlib import Path\n",
        "if IN_COLAB:\n",
        "    google.colab.drive.mount(\"/content/drive\")\n",
        "    \n",
        "    # Change this if you created the shortcut in a different location\n",
        "    AUX_DATA_ROOT = Path(\"/content/drive/My Drive/flax_model_weights\")\n",
        "    \n",
        "    assert AUX_DATA_ROOT.is_dir(), \"Have you forgot to 'Add a shortcut to Drive'?\"\n",
        "    \n",
        "    import sys\n",
        "    sys.path.insert(0, str(AUX_DATA_ROOT))\n",
        "else:\n",
        "    AUX_DATA_ROOT = Path(\".\")"
      ],
      "execution_count": 27,
      "outputs": [
        {
          "output_type": "stream",
          "text": [
            "Drive already mounted at /content/drive; to attempt to forcibly remount, call drive.mount(\"/content/drive\", force_remount=True).\n"
          ],
          "name": "stdout"
        }
      ]
    },
    {
      "cell_type": "code",
      "metadata": {
        "id": "wVINHw6NPnIA"
      },
      "source": [
        "import numpy as np\n",
        "import jax\n",
        "import jax.numpy as jnp\n",
        "import matplotlib.pyplot as plt\n",
        "import flax \n",
        "import flax.nn as nn"
      ],
      "execution_count": 28,
      "outputs": []
    },
    {
      "cell_type": "code",
      "metadata": {
        "id": "kZ-tGDlgPnIH"
      },
      "source": [
        "\n",
        "def P_local_matvec(k, K, w1, w2, x):\n",
        "    x1 = x.reshape((2**k, -1))\n",
        "    tmp = jnp.zeros(x1.shape)\n",
        "    tmp = jax.ops.index_update(tmp, jax.ops.index[:-1, :], x1[1:, :])\n",
        "    res = (x1@w1) + (tmp@w2)\n",
        "    return res.flatten()\n",
        "\n",
        "\n",
        "def P_local_matvec_t(k, K, w1, w2, x):\n",
        "    x1 = x.reshape((2**k, -1))     #Can we make a 2D version\n",
        "    tmp = jnp.zeros(x1.shape)\n",
        "    tmp = jax.ops.index_update(tmp, jax.ops.index[1:, :], x1[:-1, :])\n",
        "    res = x1@w1.T + (tmp@w2.T)\n",
        "\n",
        "    return res.flatten()\n",
        "\n",
        "\n",
        "class Projector_direct(nn.Module):\n",
        "    def apply(self, x, k, K):\n",
        "        s = (K-k)\n",
        "        sp = (2**s, 1)\n",
        "        w1 = self.param('w1', sp, nn.initializers.lecun_normal())\n",
        "        w2 = self.param('w2', sp, nn.initializers.lecun_normal())\n",
        "        x1 = x.reshape((2**k, -1))\n",
        "        y = P_local_matvec(k, K, w1, w2, x1)\n",
        "        z = P_local_matvec_t(k, K, w1, w2, y)\n",
        "        z = z.reshape(x.shape)\n",
        "        return z"
      ],
      "execution_count": 29,
      "outputs": []
    },
    {
      "cell_type": "code",
      "metadata": {
        "id": "YW50HB62PnIK"
      },
      "source": [
        "def get_init_params(k, K):\n",
        "    s = (K-k)\n",
        "    xi = jnp.ones(2**s)\n",
        "    eta = (jnp.arange(2**s) + 1)*1.0*(2**(-s))\n",
        "    xi = jnp.reshape(xi, (-1, 1))\n",
        "    eta = jnp.reshape(eta, (-1, 1))\n",
        "    w1 = eta\n",
        "    w2 = xi - eta\n",
        "    w1 = w1*(2**(-s/2))\n",
        "    w2 = w2*(2**(-s/2))\n",
        "    return w1, w2"
      ],
      "execution_count": 30,
      "outputs": []
    },
    {
      "cell_type": "code",
      "metadata": {
        "id": "znq_4ZUuPnIO"
      },
      "source": [
        "class BPX(nn.Module):\n",
        "    def apply(self, x, K):\n",
        "        y = jnp.zeros(x.shape)\n",
        "        for k in range(K+1):\n",
        "            scale = self.param('scale_{0:d}'.format(k), (1, ), nn.initializers.ones)\n",
        "            y = y + 0.5*(scale + abs(scale))*Projector_direct(x, k, K)\n",
        "        return y\n",
        "\n",
        "\n",
        "def init_BPX(K, model):\n",
        "    params = {}\n",
        "    for k in range(K+1):\n",
        "        name = 'Projector_direct_{0:d}'.format(k)\n",
        "        scale_name = 'scale_{0:d}'.format(k)\n",
        "        w1, w2 = get_init_params(k, K)\n",
        "        loc_params = {'w1': w1, 'w2': w2}\n",
        "        params[name] = loc_params\n",
        "        params[scale_name] = jnp.reshape(2**(-k), (1, ))*0.05\n",
        "        #params[scale_name] = jnp.reshape(2**(-k), (1, ))*1e-2\n",
        "\n",
        "    return model.replace(params=params)"
      ],
      "execution_count": 31,
      "outputs": []
    },
    {
      "cell_type": "code",
      "metadata": {
        "id": "buL489pkPnIR"
      },
      "source": [
        "def loss(dpx_model, mat, x):\n",
        "    sz = x.shape\n",
        "    y = x\n",
        "    dpx_model_batch = jax.vmap(dpx_model, 1, 1) \n",
        "    z = y\n",
        "    for i in range(3):\n",
        "        z = y.reshape(y.shape) \n",
        "        By = dpx_model_batch(z) \n",
        "        By = jnp.reshape(By, y.shape)\n",
        "        By = mat@By \n",
        "        By = dpx_model_batch(By) \n",
        "        \n",
        "        y = y - By \n",
        "    return jnp.mean(jnp.einsum('ib, ib->b', y, y))"
      ],
      "execution_count": 32,
      "outputs": []
    },
    {
      "cell_type": "code",
      "metadata": {
        "id": "IJhxYPTRPnIU"
      },
      "source": [
        "rng = jax.random.PRNGKey(2010)\n",
        "rng, key = jax.random.split(rng)\n",
        "\n",
        "K = 9\n",
        "B_cur = BPX.partial(K=K)\n",
        "n = 2**K\n",
        "x0 = jnp.ones(n)\n",
        "_, init_params = B_cur.init(key, x0)\n",
        "init_model = nn.Model(B_cur, init_params)\n",
        "true_BPX_2 = init_BPX(K, init_model)\n",
        "\n",
        "# K = 5\n",
        "# n = 2**K \n",
        "z = jnp.diag(jnp.ones(n-1), -1)\n",
        "e = jnp.eye(n)\n",
        "lp = 2*e - z - z.T\n",
        "lp = lp*(n+1)**2\n",
        "\n",
        "\n",
        "# c = 1e2 # convection coefficient\n"
      ],
      "execution_count": 33,
      "outputs": []
    },
    {
      "cell_type": "code",
      "metadata": {
        "id": "wqoYqygkPnIX"
      },
      "source": [
        "def richardson(F, x0, f,  num_iter, tau, eps = 1e-3,  prec = None, PFP = False):\n",
        "    conv = [x0]\n",
        "    xk = x0\n",
        "    \n",
        "    if prec == None:\n",
        "        tau = tau[0]#0.0004\n",
        "        for i in range(num_iter):\n",
        "            xk = xk - tau*(F@xk - f)\n",
        "            disp = jnp.linalg.norm(F@xk - f)\n",
        "            conv.append(xk)\n",
        "            if disp <= eps:\n",
        "                return i, xk, disp, conv\n",
        "        return i, xk, disp, conv\n",
        "    elif prec !=None:\n",
        "        if PFP == False:\n",
        "            tau = tau[1] #.159\n",
        "            for i in range(num_iter):\n",
        "                xk = xk - tau * prec @ (F @ xk - f)\n",
        "                conv.append(xk)\n",
        "                disp = jnp.linalg.norm(F @ xk - f) \n",
        "                if disp <= eps:\n",
        "                    return i, xk, disp, conv\n",
        "            return i, xk, disp, conv\n",
        "        elif PFP == True:\n",
        "            tau = tau[2]#7\n",
        "            for i in range(num_iter):\n",
        "                xk = xk - tau * ((prec@(F@(prec@xk))) - (prec@f))\n",
        "                conv.append(xk)\n",
        "                disp = jnp.linalg.norm((prec@(F@(prec@xk))) - (prec@f))\n",
        "                if disp <= eps:\n",
        "                    return i, xk, disp, conv\n",
        "            return i, xk, disp, conv\n",
        "            "
      ],
      "execution_count": 34,
      "outputs": []
    },
    {
      "cell_type": "code",
      "metadata": {
        "id": "Sv13g5AjPnIb"
      },
      "source": [
        "x0 = jnp.ones(n)\n",
        "xr =  jax.random.uniform(key, x0.shape)\n",
        "f = jnp.ones_like(xr)*6\n",
        "gt = jnp.linalg.solve(lp, f)"
      ],
      "execution_count": 35,
      "outputs": []
    },
    {
      "cell_type": "code",
      "metadata": {
        "id": "LFu-mdP0PnIe",
        "outputId": "e7431923-ec60-4358-ce03-5dfac2768958",
        "colab": {
          "base_uri": "https://localhost:8080/"
        }
      },
      "source": [
        "rng = jax.random.PRNGKey(2010)\n",
        "rng, key = jax.random.split(rng)\n",
        "\n",
        "K = 9\n",
        "B_cur = BPX.partial(K=K)\n",
        "n = 2**K\n",
        "x0 = jnp.ones(n)\n",
        "_, init_params = B_cur.init(key, x0)\n",
        "init_model = nn.Model(B_cur, init_params)\n",
        "true_BPX = init_BPX(K, init_model)\n",
        "\n",
        "\n",
        "\n",
        "z = jnp.eye(n)\n",
        "batch_model = jax.vmap(true_BPX) #We want to have ||(I - tau*A*B)||->min\n",
        "prec = batch_model(z)\n",
        "print(prec.shape)"
      ],
      "execution_count": 37,
      "outputs": [
        {
          "output_type": "stream",
          "text": [
            "(512, 512)\n"
          ],
          "name": "stdout"
        }
      ]
    },
    {
      "cell_type": "code",
      "metadata": {
        "id": "CNxbFgE1RCPD",
        "outputId": "355a98fc-4337-40fa-b559-ecf7c81efb78",
        "colab": {
          "base_uri": "https://localhost:8080/"
        }
      },
      "source": [
        "w1, _ =  np.linalg.eig(lp)\n",
        "2/(max(w1)+min(w1))\n"
      ],
      "execution_count": 38,
      "outputs": [
        {
          "output_type": "execute_result",
          "data": {
            "text/plain": [
              "1.8999198233834531e-06"
            ]
          },
          "metadata": {
            "tags": []
          },
          "execution_count": 38
        }
      ]
    },
    {
      "cell_type": "code",
      "metadata": {
        "id": "6MpBFe7GSIav",
        "outputId": "b5ee0908-8ef1-4037-e389-f1a4dd85b3c2",
        "colab": {
          "base_uri": "https://localhost:8080/"
        }
      },
      "source": [
        "\n",
        "w1, _ =  np.linalg.eig(prec@lp)\n",
        "2/(max(w1)+min(w1))\n"
      ],
      "execution_count": 39,
      "outputs": [
        {
          "output_type": "execute_result",
          "data": {
            "text/plain": [
              "0.007271669349418824"
            ]
          },
          "metadata": {
            "tags": []
          },
          "execution_count": 39
        }
      ]
    },
    {
      "cell_type": "code",
      "metadata": {
        "id": "b7x6thrOSJ7-",
        "outputId": "f4690c15-0035-455b-808f-9da7274b76fa",
        "colab": {
          "base_uri": "https://localhost:8080/"
        }
      },
      "source": [
        "w1, _ =  np.linalg.eig(prec@lp@prec)\n",
        "2/(max(w1)+min(w1))\n"
      ],
      "execution_count": 40,
      "outputs": [
        {
          "output_type": "execute_result",
          "data": {
            "text/plain": [
              "0.6147711740999876"
            ]
          },
          "metadata": {
            "tags": []
          },
          "execution_count": 40
        }
      ]
    },
    {
      "cell_type": "code",
      "metadata": {
        "id": "GA7VWCucPnIj"
      },
      "source": [
        "eps = 1e-3\n",
        "num_iter = 2000\n",
        "tau = [1.8e-6, 0.007, 0.6]"
      ],
      "execution_count": 41,
      "outputs": []
    },
    {
      "cell_type": "code",
      "metadata": {
        "id": "6lp1O5NUPnIn"
      },
      "source": [
        "i, ans, disp, conv = richardson(lp, xr, f, int(num_iter), tau =tau, eps=eps)"
      ],
      "execution_count": 42,
      "outputs": []
    },
    {
      "cell_type": "code",
      "metadata": {
        "id": "m0qxe_IW-S1U"
      },
      "source": [
        "i, disp"
      ],
      "execution_count": null,
      "outputs": []
    },
    {
      "cell_type": "code",
      "metadata": {
        "id": "Lh4l-pxhPnIp"
      },
      "source": [
        "i_up, ans_up, disp_up, conv_up = richardson(lp, xr, f, int(num_iter),tau = tau, eps=eps,  prec=prec)"
      ],
      "execution_count": 43,
      "outputs": []
    },
    {
      "cell_type": "code",
      "metadata": {
        "id": "Cqa_K9gUPnIs"
      },
      "source": [
        "i_up1, ans_up1, disp_up1, conv_up1 = richardson(lp, xr, f, int(num_iter), tau = tau,eps=eps, prec=prec, PFP=True)"
      ],
      "execution_count": 44,
      "outputs": []
    },
    {
      "cell_type": "code",
      "metadata": {
        "id": "0IehMZjE-kgz",
        "outputId": "cf115981-7771-4b45-dfc1-9efeed1abb18",
        "colab": {
          "base_uri": "https://localhost:8080/"
        }
      },
      "source": [
        "i_up1, disp_up1"
      ],
      "execution_count": 20,
      "outputs": [
        {
          "output_type": "execute_result",
          "data": {
            "text/plain": [
              "(977, DeviceArray(0.00099781, dtype=float32))"
            ]
          },
          "metadata": {
            "tags": []
          },
          "execution_count": 20
        }
      ]
    },
    {
      "cell_type": "code",
      "metadata": {
        "id": "PBsXYDUvPnIw",
        "outputId": "53a75111-3459-4519-ebf3-7d5b952c704f",
        "colab": {
          "base_uri": "https://localhost:8080/",
          "height": 282
        }
      },
      "source": [
        "plt.semilogy([jnp.linalg.norm(lp @ x - f) for x in conv], label=\"Rich\")\n",
        "plt.semilogy([jnp.linalg.norm(lp @ x - f) for x in conv_up], label=\"Prec\")\n",
        "plt.semilogy([jnp.linalg.norm(prec @ (lp @ (prec @ x)) - prec @ f) for x in conv_up1], label=\"Prec PFP\")\n",
        "plt.legend()"
      ],
      "execution_count": 45,
      "outputs": [
        {
          "output_type": "execute_result",
          "data": {
            "text/plain": [
              "<matplotlib.legend.Legend at 0x7f5ad0101710>"
            ]
          },
          "metadata": {
            "tags": []
          },
          "execution_count": 45
        },
        {
          "output_type": "display_data",
          "data": {
            "image/png": "[encoded data removed]",
            "text/plain": [
              "<Figure size 432x288 with 1 Axes>"
            ]
          },
          "metadata": {
            "tags": [],
            "needs_background": "light"
          }
        }
      ]
    },
    {
      "cell_type": "code",
      "metadata": {
        "id": "eg8u3p3wPnIz",
        "outputId": "2327034b-1e25-4626-89ff-85b25a52b2c8",
        "colab": {
          "base_uri": "https://localhost:8080/",
          "height": 282
        }
      },
      "source": [
        "import matplotlib.pyplot as plt\n",
        "plt.plot(gt, label = 'ground truth')\n",
        "plt.plot(ans, label= 'without prec')\n",
        "plt.plot(ans_up, label= 'with prec PFx =f')\n",
        "plt.plot(prec@ans_up1, label ='with prec PFPx =Pf')\n",
        "plt.legend()"
      ],
      "execution_count": 46,
      "outputs": [
        {
          "output_type": "execute_result",
          "data": {
            "text/plain": [
              "<matplotlib.legend.Legend at 0x7f5abe0966a0>"
            ]
          },
          "metadata": {
            "tags": []
          },
          "execution_count": 46
        },
        {
          "output_type": "display_data",
          "data": {
            "image/png": "[encoded data removed]",
            "text/plain": [
              "<Figure size 432x288 with 1 Axes>"
            ]
          },
          "metadata": {
            "tags": [],
            "needs_background": "light"
          }
        }
      ]
    },
    {
      "cell_type": "code",
      "metadata": {
        "id": "r8nqUvlfPnI1",
        "outputId": "cc5d6adb-2d97-4bc5-eaaf-ebc5f0e6f56f",
        "colab": {
          "base_uri": "https://localhost:8080/"
        }
      },
      "source": [
        "print(jnp.linalg.norm(gt - ans))\n",
        "print(jnp.linalg.norm(gt - ans_up))\n",
        "print(jnp.linalg.norm(gt - prec @ ans_up1))"
      ],
      "execution_count": null,
      "outputs": [
        {
          "output_type": "stream",
          "text": [
            "2.915668\n",
            "0.0050109387\n",
            "0.0006192414\n"
          ],
          "name": "stdout"
        }
      ]
    },
    {
      "cell_type": "code",
      "metadata": {
        "id": "ES9-jre_PnI_"
      },
      "source": [
        "# r = open('bytesK5.txt', 'rb')\n",
        "r = open('/content/drive/My Drive/flax_model_weights/weightsk9i5.txt', 'rb')\n",
        "l = r.readlines()\n",
        "ll = b''.join(l)\n",
        "params = flax.serialization.msgpack_restore(ll)\n",
        "true_BPX_3 = true_BPX_2.replace(params=params)\n",
        "n = 2**K\n",
        "z = jnp.eye(n)\n",
        "batch_model = jax.vmap(true_BPX_3) #We want to have ||(I - tau*A*B)||->min\n",
        "prec2 = batch_model(z)"
      ],
      "execution_count": 47,
      "outputs": []
    },
    {
      "cell_type": "code",
      "metadata": {
        "id": "-eChwU7EUPX_",
        "outputId": "1cea78f5-9419-4c0e-9259-ccbaa48dad31",
        "colab": {
          "base_uri": "https://localhost:8080/"
        }
      },
      "source": [
        "w1, _ =  np.linalg.eig(prec2@lp)\n",
        "2/(max(w1)+min(w1))"
      ],
      "execution_count": 48,
      "outputs": [
        {
          "output_type": "execute_result",
          "data": {
            "text/plain": [
              "(0.01726400116856551+0j)"
            ]
          },
          "metadata": {
            "tags": []
          },
          "execution_count": 48
        }
      ]
    },
    {
      "cell_type": "code",
      "metadata": {
        "id": "BYS1xqUDUPpj",
        "outputId": "76cb108d-efac-481a-d319-804dae41b79c",
        "colab": {
          "base_uri": "https://localhost:8080/"
        }
      },
      "source": [
        "w1, _ =  np.linalg.eig(prec2@lp@prec2)\n",
        "2/(max(w1)+min(w1))\n"
      ],
      "execution_count": 49,
      "outputs": [
        {
          "output_type": "execute_result",
          "data": {
            "text/plain": [
              "(0.9822186580151512+9.38029323928314e-09j)"
            ]
          },
          "metadata": {
            "tags": []
          },
          "execution_count": 49
        }
      ]
    },
    {
      "cell_type": "code",
      "metadata": {
        "id": "c1qN-BXbPnI8"
      },
      "source": [
        "tau2 = [1.8e-6, 0.017, 0.98]"
      ],
      "execution_count": 50,
      "outputs": []
    },
    {
      "cell_type": "code",
      "metadata": {
        "id": "JrnA5xeYPnJB"
      },
      "source": [
        "i_p, ans_p, disp_p, conv_p = richardson(lp, xr, f, int(num_iter),tau = tau2, eps=eps,  prec=prec2)"
      ],
      "execution_count": 51,
      "outputs": []
    },
    {
      "cell_type": "code",
      "metadata": {
        "id": "abJIna3yPnJE"
      },
      "source": [
        "i_p1, ans_p1, disp_p1, conv_p1 = richardson(lp, xr, f, int(num_iter), tau = tau2,eps=eps, prec=prec2, PFP=True)"
      ],
      "execution_count": 52,
      "outputs": []
    },
    {
      "cell_type": "code",
      "metadata": {
        "id": "MQsACrbP-hRy"
      },
      "source": [
        ""
      ],
      "execution_count": null,
      "outputs": []
    },
    {
      "cell_type": "code",
      "metadata": {
        "id": "HbaHdEL3PnJI",
        "outputId": "efaf0d2e-a647-4d02-9ecf-059886b953ae",
        "colab": {
          "base_uri": "https://localhost:8080/",
          "height": 282
        }
      },
      "source": [
        "import matplotlib.pyplot as plt\n",
        "plt.plot(gt, label = 'ground truth')\n",
        "plt.plot(ans, label= 'without prec')\n",
        "# plt.plot(ans_p, label= 'with prec PFx =f')\n",
        "plt.plot(prec2@ans_p1, label ='with prec PFPx =Pf')\n",
        "plt.legend()"
      ],
      "execution_count": 53,
      "outputs": [
        {
          "output_type": "execute_result",
          "data": {
            "text/plain": [
              "<matplotlib.legend.Legend at 0x7f5ab475f828>"
            ]
          },
          "metadata": {
            "tags": []
          },
          "execution_count": 53
        },
        {
          "output_type": "display_data",
          "data": {
            "image/png": "[encoded data removed]",
            "text/plain": [
              "<Figure size 432x288 with 1 Axes>"
            ]
          },
          "metadata": {
            "tags": [],
            "needs_background": "light"
          }
        }
      ]
    },
    {
      "cell_type": "code",
      "metadata": {
        "id": "2BIbCwS0PnJL",
        "outputId": "dcf8b0a7-ce5b-4ded-febe-dae01e9dfb73",
        "colab": {
          "base_uri": "https://localhost:8080/",
          "height": 282
        }
      },
      "source": [
        "plt.semilogy([jnp.linalg.norm(lp @ x - f) for x in conv], label=\"Rich\")\n",
        "plt.semilogy([jnp.linalg.norm(lp @ x - f) for x in conv_p], label=\"Prec\")\n",
        "plt.semilogy([jnp.linalg.norm(prec2 @ (lp @ (prec2 @ x)) - prec2 @ f) for x in conv_p1], label=\"Prec PFP\")\n",
        "plt.semilogy([jnp.linalg.norm(lp @ x - f) for x in conv_up], label=\"untrained Prec\")\n",
        "plt.semilogy([jnp.linalg.norm(prec @ (lp @ (prec @ x)) - prec @ f) for x in conv_up1], label=\"untrainedPrec PFP\")\n",
        "plt.legend()"
      ],
      "execution_count": 54,
      "outputs": [
        {
          "output_type": "execute_result",
          "data": {
            "text/plain": [
              "<matplotlib.legend.Legend at 0x7f5ab4709668>"
            ]
          },
          "metadata": {
            "tags": []
          },
          "execution_count": 54
        },
        {
          "output_type": "display_data",
          "data": {
            "image/png": "[encoded data removed]",
            "text/plain": [
              "<Figure size 432x288 with 1 Axes>"
            ]
          },
          "metadata": {
            "tags": [],
            "needs_background": "light"
          }
        }
      ]
    },
    {
      "cell_type": "code",
      "metadata": {
        "id": "S_7JXn8OGqCb"
      },
      "source": [
        "def my_parse(adress):\n",
        "  r = open(adress, 'r')\n",
        "  l = r.readlines()\n",
        "  arr = l[0].split(', ')\n",
        "  arr[0] = arr[0][1:]\n",
        "  arr[-1] = arr[-1][:-1]\n",
        "  result = list(map(float, arr))\n",
        "  return result"
      ],
      "execution_count": 56,
      "outputs": []
    },
    {
      "cell_type": "code",
      "metadata": {
        "id": "9bZlMvTkGpuq"
      },
      "source": [
        "loss9 =  my_parse('/content/drive/My Drive/flax_model_weights/lossK9I5.txt')\n",
        "eigs9 = my_parse('/content/drive/My Drive/flax_model_weights/eigenK9I5.txt')\n",
        "true_eigs9 = my_parse('/content/drive/My Drive/flax_model_weights/true_eigenK9I5.txt')"
      ],
      "execution_count": 57,
      "outputs": []
    },
    {
      "cell_type": "code",
      "metadata": {
        "id": "N2CkwL26G14I",
        "outputId": "92d7071e-72bd-48b6-e5d8-9883491c7e60",
        "colab": {
          "base_uri": "https://localhost:8080/",
          "height": 282
        }
      },
      "source": [
        "plt.plot(loss9)\n",
        "plt.plot(eigs9)\n",
        "plt.plot(true_eigs9)"
      ],
      "execution_count": 58,
      "outputs": [
        {
          "output_type": "execute_result",
          "data": {
            "text/plain": [
              "[<matplotlib.lines.Line2D at 0x7f5ad011dc88>]"
            ]
          },
          "metadata": {
            "tags": []
          },
          "execution_count": 58
        },
        {
          "output_type": "display_data",
          "data": {
            "image/png": "[encoded data removed]",
            "text/plain": [
              "<Figure size 432x288 with 1 Axes>"
            ]
          },
          "metadata": {
            "tags": [],
            "needs_background": "light"
          }
        }
      ]
    },
    {
      "cell_type": "code",
      "metadata": {
        "id": "YUJp4YgfPnJN",
        "outputId": "5a62275f-82ab-467c-aa15-382962d3ac45",
        "colab": {
          "base_uri": "https://localhost:8080/"
        }
      },
      "source": [
        "print(jnp.linalg.norm(gt - ans))\n",
        "print(jnp.linalg.norm(gt - ans_p))\n",
        "print(jnp.linalg.norm(gt - prec2 @ ans_p1))"
      ],
      "execution_count": 59,
      "outputs": [
        {
          "output_type": "stream",
          "text": [
            "2.915669\n",
            "30.288027\n",
            "10.201315\n"
          ],
          "name": "stdout"
        }
      ]
    },
    {
      "cell_type": "code",
      "metadata": {
        "id": "YX6JQfh_PnJQ",
        "outputId": "0c45da9d-bfa4-4554-83bf-d81a005d1ca6",
        "colab": {
          "base_uri": "https://localhost:8080/"
        }
      },
      "source": [
        "print(jnp.linalg.norm(gt - ans))\n",
        "print(jnp.linalg.norm(gt - ans_up))\n",
        "print(jnp.linalg.norm(gt - prec @ ans_up1))"
      ],
      "execution_count": 60,
      "outputs": [
        {
          "output_type": "stream",
          "text": [
            "2.915669\n",
            "0.005018085\n",
            "0.00074526336\n"
          ],
          "name": "stdout"
        }
      ]
    },
    {
      "cell_type": "code",
      "metadata": {
        "id": "ZrFx_kD6PnJa"
      },
      "source": [
        ""
      ],
      "execution_count": null,
      "outputs": []
    }
  ]
}