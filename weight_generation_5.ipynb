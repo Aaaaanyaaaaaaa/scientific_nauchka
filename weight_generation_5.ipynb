{
  "nbformat": 4,
  "nbformat_minor": 0,
  "metadata": {
    "colab": {
      "name": "weight_generation 5.ipynb",
      "provenance": []
    },
    "kernelspec": {
      "name": "python3",
      "display_name": "Python 3"
    },
    "accelerator": "GPU"
  },
  "cells": [
    {
      "cell_type": "code",
      "metadata": {
        "id": "96nMERCdnBkf",
        "outputId": "6ca23759-eb1e-4aba-e3ca-c1164c592d46",
        "colab": {
          "base_uri": "https://localhost:8080/",
          "height": 238
        }
      },
      "source": [
        "!pip install flax"
      ],
      "execution_count": 39,
      "outputs": [
        {
          "output_type": "stream",
          "text": [
            "Requirement already satisfied: flax in /usr/local/lib/python3.6/dist-packages (0.2.2)\n",
            "Requirement already satisfied: dataclasses; python_version < \"3.7\" in /usr/local/lib/python3.6/dist-packages (from flax) (0.7)\n",
            "Requirement already satisfied: msgpack in /usr/local/lib/python3.6/dist-packages (from flax) (1.0.0)\n",
            "Requirement already satisfied: jax>=0.1.59 in /usr/local/lib/python3.6/dist-packages (from flax) (0.2.4)\n",
            "Requirement already satisfied: matplotlib in /usr/local/lib/python3.6/dist-packages (from flax) (3.2.2)\n",
            "Requirement already satisfied: numpy>=1.12 in /usr/local/lib/python3.6/dist-packages (from flax) (1.18.5)\n",
            "Requirement already satisfied: opt-einsum in /usr/local/lib/python3.6/dist-packages (from jax>=0.1.59->flax) (3.3.0)\n",
            "Requirement already satisfied: absl-py in /usr/local/lib/python3.6/dist-packages (from jax>=0.1.59->flax) (0.10.0)\n",
            "Requirement already satisfied: kiwisolver>=1.0.1 in /usr/local/lib/python3.6/dist-packages (from matplotlib->flax) (1.2.0)\n",
            "Requirement already satisfied: python-dateutil>=2.1 in /usr/local/lib/python3.6/dist-packages (from matplotlib->flax) (2.8.1)\n",
            "Requirement already satisfied: cycler>=0.10 in /usr/local/lib/python3.6/dist-packages (from matplotlib->flax) (0.10.0)\n",
            "Requirement already satisfied: pyparsing!=2.0.4,!=2.1.2,!=2.1.6,>=2.0.1 in /usr/local/lib/python3.6/dist-packages (from matplotlib->flax) (2.4.7)\n",
            "Requirement already satisfied: six in /usr/local/lib/python3.6/dist-packages (from absl-py->jax>=0.1.59->flax) (1.15.0)\n"
          ],
          "name": "stdout"
        }
      ]
    },
    {
      "cell_type": "code",
      "metadata": {
        "id": "WMIgDZrhn98k",
        "outputId": "e31ba327-7078-42e7-e853-fc0ecccd14d1",
        "colab": {
          "base_uri": "https://localhost:8080/",
          "height": 34
        }
      },
      "source": [
        "# Detect if we are in Google Colaboratory\n",
        "try:\n",
        "    import google.colab\n",
        "    IN_COLAB = True\n",
        "except ImportError:\n",
        "    IN_COLAB = False\n",
        "\n",
        "from pathlib import Path\n",
        "# Determine the locations of auxiliary libraries and datasets.\n",
        "# `AUX_DATA_ROOT` is where 'notmnist.py', 'animation.py' and 'tiny-imagenet-2020.zip' are.\n",
        "if IN_COLAB:\n",
        "    google.colab.drive.mount(\"/content/drive\")\n",
        "    \n",
        "    # Change this if you created the shortcut in a different location\n",
        "    AUX_DATA_ROOT = Path(\"/content/drive/My Drive/weightsFlax\")\n",
        "    \n",
        "    assert AUX_DATA_ROOT.is_dir(), \"Have you forgot to 'Add a shortcut to Drive'?\"\n",
        "    \n",
        "    import sys\n",
        "    sys.path.insert(0, str(AUX_DATA_ROOT))\n",
        "else:\n",
        "    AUX_DATA_ROOT = Path(\".\")"
      ],
      "execution_count": 40,
      "outputs": [
        {
          "output_type": "stream",
          "text": [
            "Drive already mounted at /content/drive; to attempt to forcibly remount, call drive.mount(\"/content/drive\", force_remount=True).\n"
          ],
          "name": "stdout"
        }
      ]
    },
    {
      "cell_type": "code",
      "metadata": {
        "id": "NBxyt4-LnEGd"
      },
      "source": [
        "import numpy as np\n",
        "import jax\n",
        "import jax.numpy as jnp\n",
        "import matplotlib.pyplot as plt\n",
        "import flax \n",
        "import flax.nn as nn"
      ],
      "execution_count": 41,
      "outputs": []
    },
    {
      "cell_type": "code",
      "metadata": {
        "id": "oTRexkp8nIOE"
      },
      "source": [
        "def P_local_matvec(k, K, w1, w2, x):\n",
        "    x1 = x.reshape((2**k, -1))\n",
        "    tmp = jnp.zeros(x1.shape)\n",
        "    tmp = jax.ops.index_update(tmp, jax.ops.index[:-1, :], x1[1:, :])\n",
        "    res = (x1@w1) + (tmp@w2)\n",
        "    return res.flatten()\n",
        "\n",
        "\n",
        "def P_local_matvec_t(k, K, w1, w2, x):\n",
        "    x1 = x.reshape((2**k, -1))     #Can we make a 2D version\n",
        "    tmp = jnp.zeros(x1.shape)\n",
        "    tmp = jax.ops.index_update(tmp, jax.ops.index[1:, :], x1[:-1, :])\n",
        "    res = x1@w1.T + (tmp@w2.T)\n",
        "\n",
        "    return res.flatten()\n",
        "\n",
        "\n",
        "class Projector_direct(nn.Module):\n",
        "    def apply(self, x, k, K):\n",
        "        s = (K-k)\n",
        "        sp = (2**s, 1)\n",
        "        w1 = self.param('w1', sp, nn.initializers.lecun_normal())\n",
        "        w2 = self.param('w2', sp, nn.initializers.lecun_normal())\n",
        "        x1 = x.reshape((2**k, -1))\n",
        "        y = P_local_matvec(k, K, w1, w2, x1)\n",
        "        z = P_local_matvec_t(k, K, w1, w2, y)\n",
        "        z = z.reshape(x.shape)\n",
        "        return z\n"
      ],
      "execution_count": 42,
      "outputs": []
    },
    {
      "cell_type": "code",
      "metadata": {
        "id": "RWvai5_6nK1-"
      },
      "source": [
        "def get_init_params(k, K):\n",
        "    s = (K-k)\n",
        "    xi = jnp.ones(2**s)\n",
        "    eta = (jnp.arange(2**s) + 1)*1.0*(2**(-s))\n",
        "    xi = jnp.reshape(xi, (-1, 1))\n",
        "    eta = jnp.reshape(eta, (-1, 1))\n",
        "    w1 = eta\n",
        "    w2 = xi - eta\n",
        "    w1 = w1*(2**(-s/2))\n",
        "    w2 = w2*(2**(-s/2))\n",
        "    return w1, w2"
      ],
      "execution_count": 43,
      "outputs": []
    },
    {
      "cell_type": "code",
      "metadata": {
        "id": "Ge6eY-4QnNHO"
      },
      "source": [
        "class BPX(nn.Module):\n",
        "    def apply(self, x, K):\n",
        "        y = jnp.zeros(x.shape)\n",
        "        for k in range(K+1):\n",
        "            scale = self.param('scale_{0:d}'.format(k), (1, ), nn.initializers.ones)\n",
        "            y = y + 0.5*(scale + abs(scale))*Projector_direct(x, k, K)\n",
        "        return y\n",
        "\n",
        "\n",
        "def init_BPX(K, model):\n",
        "    params = {}\n",
        "    for k in range(K+1):\n",
        "        name = 'Projector_direct_{0:d}'.format(k)\n",
        "        scale_name = 'scale_{0:d}'.format(k)\n",
        "        w1, w2 = get_init_params(k, K)\n",
        "        loc_params = {'w1': w1, 'w2': w2}\n",
        "        params[name] = loc_params\n",
        "        params[scale_name] = jnp.reshape(2**(-k), (1, ))*0.05\n",
        "        #params[scale_name] = jnp.reshape(2**(-k), (1, ))*1e-2\n",
        "\n",
        "    return model.replace(params=params)"
      ],
      "execution_count": 44,
      "outputs": []
    },
    {
      "cell_type": "code",
      "metadata": {
        "id": "YAXe19LcnPc9"
      },
      "source": [
        "def loss(dpx_model, mat, x):\n",
        "    sz = x.shape\n",
        "    y = x\n",
        "    dpx_model_batch = jax.vmap(dpx_model, 1, 1) \n",
        "    z = y\n",
        "    for i in range(3):\n",
        "        z = y.reshape(y.shape) \n",
        "        By = dpx_model_batch(z) \n",
        "        By = jnp.reshape(By, y.shape)\n",
        "        By = mat@By \n",
        "        By = dpx_model_batch(By) \n",
        "        \n",
        "        y = y - By \n",
        "    return jnp.mean(jnp.einsum('ib, ib->b', y, y))"
      ],
      "execution_count": 45,
      "outputs": []
    },
    {
      "cell_type": "code",
      "metadata": {
        "id": "5JJDmFR6nRZe"
      },
      "source": [
        "def power_method_update(dpx_model, mat, x):\n",
        "    # dpx_model_batch = jax.vmap(dpx_model, 1, 1) \n",
        "    y = x\n",
        "    # y = y[0, :]\n",
        "    # print(x.shape, y.shape)\n",
        "    dpx_model_batch_2 = jax.vmap(dpx_model, 1, 1) \n",
        "    eigen_v = 0\n",
        "\n",
        "    for i in range(100):\n",
        "        d = y.reshape(y.shape) \n",
        "        # print('d shape', d.shape)\n",
        "        By = dpx_model_batch_2(d) \n",
        "        # print(By.shape)\n",
        "        By = jnp.reshape(By, y.shape)\n",
        "        By = mat@By \n",
        "        By = dpx_model_batch_2(By) \n",
        "        y = y - By \n",
        "        y_v = jnp.expand_dims(y[:, 0], axis=1)\n",
        "        y_v = y_v/jnp.linalg.norm(y_v)\n",
        "        d_v = jnp.expand_dims(d[:, 0], axis=1)\n",
        "        eigen_v = (y_v.T @ d_v)[0][0]\n",
        "        # print(eigen_v.shape)\n",
        "        if (jnp.linalg.norm(y_v - eigen_v*d_v)<=0.000001):\n",
        "          # print('in if')\n",
        "          return eigen_v\n",
        "\n",
        "    return eigen_v"
      ],
      "execution_count": 46,
      "outputs": []
    },
    {
      "cell_type": "code",
      "metadata": {
        "id": "erO74L_On0pa"
      },
      "source": [
        "rng = jax.random.PRNGKey(2010)\n",
        "rng, key = jax.random.split(rng)\n",
        "\n",
        "K = 5\n",
        "B_cur = BPX.partial(K=K)\n",
        "n = 2**K\n",
        "x0 = jnp.ones(n)\n",
        "_, init_params = B_cur.init(key, x0)\n",
        "init_model = nn.Model(B_cur, init_params)\n",
        "true_BPX = init_BPX(K, init_model)\n",
        "\n",
        "# K = 5\n",
        "# n = 2**K \n",
        "z = jnp.diag(jnp.ones(n-1), -1)\n",
        "e = jnp.eye(n)\n",
        "lp = 2*e - z - z.T\n",
        "lp = lp*(n+1)**2\n",
        "\n",
        "c = 1e2 # convection coefficient\n",
        "\n",
        "mat = lp\n",
        "model = true_BPX"
      ],
      "execution_count": 47,
      "outputs": []
    },
    {
      "cell_type": "code",
      "metadata": {
        "id": "HKN-br0noLs4",
        "outputId": "2c22ed78-88e5-4f00-ee19-a02a133937ae",
        "colab": {
          "base_uri": "https://localhost:8080/",
          "height": 136
        }
      },
      "source": [
        "mat"
      ],
      "execution_count": 48,
      "outputs": [
        {
          "output_type": "execute_result",
          "data": {
            "text/plain": [
              "DeviceArray([[ 2178., -1089.,     0., ...,     0.,     0.,     0.],\n",
              "             [-1089.,  2178., -1089., ...,     0.,     0.,     0.],\n",
              "             [    0., -1089.,  2178., ...,     0.,     0.,     0.],\n",
              "             ...,\n",
              "             [    0.,     0.,     0., ...,  2178., -1089.,     0.],\n",
              "             [    0.,     0.,     0., ..., -1089.,  2178., -1089.],\n",
              "             [    0.,     0.,     0., ...,     0., -1089.,  2178.]],            dtype=float32)"
            ]
          },
          "metadata": {
            "tags": []
          },
          "execution_count": 48
        }
      ]
    },
    {
      "cell_type": "code",
      "metadata": {
        "id": "50uh7_s4ouGZ",
        "outputId": "2ea3484f-d3c8-41a6-9ff1-b2771a94afba",
        "colab": {
          "base_uri": "https://localhost:8080/",
          "height": 34
        }
      },
      "source": [
        "n = 2**K\n",
        "batch_size = 512\n",
        "x_batch = jax.random.normal(key, (n, batch_size))\n",
        "x_batch = x_batch/jnp.linalg.norm(x_batch, axis=0)[None, :]\n",
        "\n",
        "\n",
        "\n",
        "loss(model, mat, x_batch)"
      ],
      "execution_count": 49,
      "outputs": [
        {
          "output_type": "execute_result",
          "data": {
            "text/plain": [
              "DeviceArray(0.89744747, dtype=float32)"
            ]
          },
          "metadata": {
            "tags": []
          },
          "execution_count": 49
        }
      ]
    },
    {
      "cell_type": "code",
      "metadata": {
        "id": "bNduh8nxozHw",
        "outputId": "e0cc53c1-c67c-4d18-8a35-fa62359f4e5c",
        "colab": {
          "base_uri": "https://localhost:8080/",
          "height": 34
        }
      },
      "source": [
        "power_method_update(model, lp, x_batch)"
      ],
      "execution_count": 50,
      "outputs": [
        {
          "output_type": "execute_result",
          "data": {
            "text/plain": [
              "DeviceArray(0.37969592, dtype=float32)"
            ]
          },
          "metadata": {
            "tags": []
          },
          "execution_count": 50
        }
      ]
    },
    {
      "cell_type": "code",
      "metadata": {
        "id": "QUY6jTLlo2Ws"
      },
      "source": [
        "@jax.jit\n",
        "def update(opt, x):\n",
        "    # eig = jnp.mean(jnp.mean(power_method_update(opt.target, mat, x)))\n",
        "    l1, grad1 = jax.value_and_grad(loss)(opt.target, mat, x)\n",
        "    return   l1, opt.apply_gradient(grad1)"
      ],
      "execution_count": 51,
      "outputs": []
    },
    {
      "cell_type": "code",
      "metadata": {
        "id": "PSMSZU8LpIgC"
      },
      "source": [
        "opt = flax.optim.Adam(1e-5).create(model)"
      ],
      "execution_count": 52,
      "outputs": []
    },
    {
      "cell_type": "code",
      "metadata": {
        "id": "MfO4tN8fpTKw"
      },
      "source": [
        "import matplotlib.pyplot as plt\n",
        "loss_array = []\n",
        "eigen_array = []"
      ],
      "execution_count": 53,
      "outputs": []
    },
    {
      "cell_type": "code",
      "metadata": {
        "id": "kdDANLp_pVLb"
      },
      "source": [
        "from IPython import display\n",
        "import numpy as np\n",
        "import matplotlib.pyplot as plt\n",
        "\n",
        "\n",
        "def plot(loss_history, eig_history, iter_number, clear_output=True):\n",
        "    if clear_output:\n",
        "        display.clear_output(wait=True)\n",
        "    \n",
        "    fig, ax = plt.subplots(1, 1, figsize=(12, 8))\n",
        "    ax.plot(loss_history, label = 'loss_history')\n",
        "    if eig_history:\n",
        "      ax.plot(eig_history, label = 'eig_history')\n",
        "    ax.set_title('loss and eig decay')\n",
        "    ax.set_xlabel('# iteration processed')\n",
        "    # ax.set_ylabel('loss value')\n",
        "    ax.legend()\n",
        "\n",
        "    plt.show()  "
      ],
      "execution_count": 54,
      "outputs": []
    },
    {
      "cell_type": "code",
      "metadata": {
        "id": "LIJLdsAFpb9V",
        "outputId": "14fba9f5-830d-4469-f012-1bddd0bf01c6",
        "colab": {
          "base_uri": "https://localhost:8080/",
          "height": 564
        }
      },
      "source": [
        "from tqdm import tqdm\n",
        "\n",
        "for i in tqdm(range(1000)):\n",
        "    loss_val, opt = update(opt, x_batch)\n",
        "    if (i+1)%100 == 0:\n",
        "      eig_val = power_method_update(opt.target, mat, x_batch)\n",
        "      eigen_array.extend(100*[eig_val])\n",
        "    loss_array.append(loss_val)\n",
        "    # eigen_array.append(eig_val)\n",
        "    plot(loss_array, eigen_array, i)"
      ],
      "execution_count": 55,
      "outputs": [
        {
          "output_type": "display_data",
          "data": {
            "image/png": "[encoded data removed]",
            "text/plain": [
              "<Figure size 864x576 with 1 Axes>"
            ]
          },
          "metadata": {
            "tags": [],
            "needs_background": "light"
          }
        },
        {
          "output_type": "stream",
          "text": [
            "\n",
            "\n",
            "100%|██████████| 1000/1000 [07:02<00:00,  2.36it/s]\n"
          ],
          "name": "stderr"
        }
      ]
    },
    {
      "cell_type": "code",
      "metadata": {
        "id": "pakNgLPAppz4",
        "outputId": "864e55d1-b582-4fd4-b94b-c21daebf4089",
        "colab": {
          "base_uri": "https://localhost:8080/",
          "height": 34
        }
      },
      "source": [
        "a = flax.serialization.msgpack_serialize(opt.target.params)\n",
        "f = open('/content/drive/My Drive/weightsFlax/bytesK5_3_.txt', 'wb')\n",
        "f.write(a)"
      ],
      "execution_count": 57,
      "outputs": [
        {
          "output_type": "execute_result",
          "data": {
            "text/plain": [
              "961"
            ]
          },
          "metadata": {
            "tags": []
          },
          "execution_count": 57
        }
      ]
    },
    {
      "cell_type": "code",
      "metadata": {
        "id": "sP6ZW4Tmrtn6"
      },
      "source": [
        ""
      ],
      "execution_count": null,
      "outputs": []
    }
  ]
}